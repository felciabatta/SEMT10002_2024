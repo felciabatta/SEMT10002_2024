{
 "cells": [
  {
   "cell_type": "markdown",
   "metadata": {
    "slideshow": {
     "slide_type": "slide"
    }
   },
   "source": [
    "# Week 12: Functions 2\n",
    "\n",
    "* * *\n",
    "\n",
    "<img src=\"../../img/full-colour-logo-UoB.png\" alt=\"Bristol\" style=\"width: 300px;\"/>"
   ]
  },
  {
   "cell_type": "markdown",
   "metadata": {
    "slideshow": {
     "slide_type": "slide"
    }
   },
   "source": [
    "# Recap\n",
    "\n",
    "**Keyword arguments** allow arguments to be passed to a function in any order\n",
    "```python\n",
    "my_function(a = 1.0, c = 3.0, b = 2.0)\n",
    "```\n",
    "**Default arguments** can be used to create optional arguments with default values\n",
    "```python\n",
    "def another_function(arg1, arg2, def_arg = def_val)\n",
    "```\n",
    "The **unpacking operator** can be used to create functions with a variable number of arguments\n",
    "```python\n",
    "def yet_another_function(*args)\n",
    "```"
   ]
  },
  {
   "cell_type": "markdown",
   "metadata": {
    "slideshow": {
     "slide_type": "slide"
    }
   },
   "source": [
    "# Example \n",
    "\n",
    "Consider the `print_name` function"
   ]
  },
  {
   "cell_type": "code",
   "execution_count": null,
   "metadata": {},
   "outputs": [],
   "source": [
    "def print_name(first_name, last_name):\n",
    "    print(first_name, last_name)\n"
   ]
  },
  {
   "cell_type": "markdown",
   "metadata": {
    "slideshow": {
     "slide_type": "slide"
    }
   },
   "source": [
    "We'll call this function using standard (positional) arguments and then keyword arguments"
   ]
  },
  {
   "cell_type": "code",
   "execution_count": 1,
   "metadata": {
    "slideshow": {
     "slide_type": "-"
    }
   },
   "outputs": [],
   "source": [
    "# call using positional arguments (order matters)\n"
   ]
  },
  {
   "cell_type": "code",
   "execution_count": 2,
   "metadata": {
    "slideshow": {
     "slide_type": "fragment"
    }
   },
   "outputs": [],
   "source": [
    "# call using keyword arguments (order does not matter)\n"
   ]
  },
  {
   "cell_type": "markdown",
   "metadata": {
    "slideshow": {
     "slide_type": "slide"
    }
   },
   "source": [
    "# Example\n",
    "\n",
    "Let's return to the name-printing function.  Now, let's add an option for the names to be printed in reverse order by passing a Boolean called *reverse*:"
   ]
  },
  {
   "cell_type": "code",
   "execution_count": null,
   "metadata": {
    "slideshow": {
     "slide_type": "fragment"
    }
   },
   "outputs": [],
   "source": []
  },
  {
   "cell_type": "markdown",
   "metadata": {
    "slideshow": {
     "slide_type": "slide"
    }
   },
   "source": [
    "Now let's use a default argument to automatically set the *reverse* parameter equal to False"
   ]
  },
  {
   "cell_type": "code",
   "execution_count": null,
   "metadata": {},
   "outputs": [],
   "source": []
  },
  {
   "cell_type": "markdown",
   "metadata": {
    "slideshow": {
     "slide_type": "slide"
    }
   },
   "source": [
    "We can call the function without providing a third argument:"
   ]
  },
  {
   "cell_type": "code",
   "execution_count": null,
   "metadata": {
    "slideshow": {
     "slide_type": "-"
    }
   },
   "outputs": [],
   "source": []
  },
  {
   "cell_type": "markdown",
   "metadata": {
    "slideshow": {
     "slide_type": "fragment"
    }
   },
   "source": [
    "However, if we do want to use reverse order, then we can pass the third argument to override the default value:"
   ]
  },
  {
   "cell_type": "code",
   "execution_count": null,
   "metadata": {},
   "outputs": [],
   "source": []
  },
  {
   "cell_type": "markdown",
   "metadata": {
    "slideshow": {
     "slide_type": "slide"
    }
   },
   "source": [
    "# Example: \n",
    "Write a function that sums an arbitrary number of numbers.  Each number will be passed to the function as an argument."
   ]
  },
  {
   "cell_type": "code",
   "execution_count": null,
   "metadata": {},
   "outputs": [],
   "source": []
  },
  {
   "cell_type": "markdown",
   "metadata": {
    "slideshow": {
     "slide_type": "slide"
    }
   },
   "source": [
    "# Recap - variable scope\n",
    "\n",
    "The videos introduced the important concept of variable scope\n",
    "* **Local variables** can only be accessed in the functions in which they are defined\n",
    "* **Global variables** can be accessed anywhere\n",
    "\n",
    "Global variables can be convenient to use, but they lead to confusing code because their values can be changed anywhere"
   ]
  },
  {
   "cell_type": "markdown",
   "metadata": {
    "slideshow": {
     "slide_type": "slide"
    }
   },
   "source": [
    "# Group activity - the danger of global variables\n",
    "\n",
    "* The area under a curve $y = f(x)$ where $a \\leq x \\leq b$ can be computed using the trapezium rule.\n",
    "* The region under the curve is divided into trapezoids\n",
    "* The area of the trapezoids is added together"
   ]
  },
  {
   "cell_type": "markdown",
   "metadata": {
    "slideshow": {
     "slide_type": "slide"
    }
   },
   "source": [
    "<img src=\"img/Trapezium2.gif\" alt=\"Bristol\" style=\"width: 75%\"/>\n",
    "Source: Wikipedia"
   ]
  },
  {
   "cell_type": "markdown",
   "metadata": {
    "slideshow": {
     "slide_type": "slide"
    }
   },
   "source": [
    "The formula for the area $A$ under the curve is\n",
    "\n",
    "\\begin{align}\n",
    "A &= \\frac{1}{2}[f(a) + f(b)]\\Delta x + \\sum_{n = 1}^{N-1} f(x_i) \\Delta x, \\\\ x_i &= a + i \\Delta x, \\\\ \\Delta x &= \\frac{b-a}{N}\n",
    "\\end{align}\n",
    "\n",
    "In this formula, $N$ is the number of trapezoids being used to calculate the area."
   ]
  },
  {
   "cell_type": "markdown",
   "metadata": {
    "slideshow": {
     "slide_type": "slide"
    }
   },
   "source": [
    "* I wrote some code to calculate the area under the curve $f(x)$ where $a \\leq x \\leq b$.\n",
    "* I tried to be clever and use **global variables**, but now my code doesn't work and I need you to help me.\n",
    "* There are **two** reasons why I know that my code doesn't work"
   ]
  },
  {
   "cell_type": "markdown",
   "metadata": {
    "slideshow": {
     "slide_type": "slide"
    }
   },
   "source": [
    "### Reason 1\n",
    "\n",
    "* When the function is $f(x) = \\alpha e^{-\\mu x}$, the area under the curve can be obtained by integration and is found to be\n",
    "\n",
    "$$A = \\frac{\\alpha}{\\mu}\\left(e^{-a \\mu} - e^{-b \\mu}\\right).$$\n",
    "\n",
    "* Let's assume that $\\alpha = 10$, $\\mu = 1$, $a = 1$, and $b = 3$  \n",
    "* The correct value of the area is $A \\simeq 3.1809$.  However, when I use my code to evaluate this expression, I find that $A = 1.4135$."
   ]
  },
  {
   "cell_type": "markdown",
   "metadata": {
    "slideshow": {
     "slide_type": "slide"
    }
   },
   "source": [
    "### Reason 2\n",
    "\n",
    "As the number of trapezoids $N$ increases, the calculation of the area should get better and better.  By using a `for` loop to increase $N$, here's what my code produces:\n",
    "\n",
    "| N | A |\n",
    "| :---: | :---: |\n",
    "| 4 | 1.9170418972362344 |\n",
    "| 8 | 2.921352463456126 |\n",
    "| 16 | 3.575385096132727 |\n",
    "| 32 | 3.7340918189066805 |\n",
    "| 64 | 3.7408247550226568 |\n",
    "\n",
    "The values are converging to $A \\simeq 3.7408$, which is not close to the exact value of $A \\simeq 3.1809$"
   ]
  },
  {
   "cell_type": "markdown",
   "metadata": {
    "slideshow": {
     "slide_type": "slide"
    }
   },
   "source": [
    "* For the rest of the class, please work in small groups to:\n",
    "    * identify the bugs in my code\n",
    "    * re-write the code so that it works correctly\n",
    "* You can find my code on Blackboard in the file `w10_buggy_integrator.py`\n",
    "* A solution will be posted on Thursday at 4 pm\n"
   ]
  }
 ],
 "metadata": {
  "celltoolbar": "Slideshow",
  "kernelspec": {
   "display_name": "Python 3",
   "language": "python",
   "name": "python3"
  },
  "language_info": {
   "codemirror_mode": {
    "name": "ipython",
    "version": 3
   },
   "file_extension": ".py",
   "mimetype": "text/x-python",
   "name": "python",
   "nbconvert_exporter": "python",
   "pygments_lexer": "ipython3",
   "version": "3.8.8"
  }
 },
 "nbformat": 4,
 "nbformat_minor": 4
}
