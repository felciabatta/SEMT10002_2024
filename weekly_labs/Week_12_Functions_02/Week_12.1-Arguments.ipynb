{
 "cells": [
  {
   "cell_type": "markdown",
   "metadata": {
    "slideshow": {
     "slide_type": "slide"
    }
   },
   "source": [
    "# Introduction to Computer Programming\n",
    "\n",
    "## Week 10.1: Function arguments\n",
    "\n",
    "* * *\n",
    "\n",
    "<img src=\"../../img/full-colour-logo-UoB.png\" alt=\"Bristol\" style=\"width: 300px;\"/>"
   ]
  },
  {
   "cell_type": "markdown",
   "metadata": {
    "slideshow": {
     "slide_type": "slide"
    }
   },
   "source": [
    "# Aims\n",
    "\n",
    "In this video, we will:\n",
    "* Dive deeper into how function arguments work\n",
    "* Show how values can be passed to arguments in any order\n",
    "* Show how to make some arguments optional by giving them default values\n",
    "* Explain how to write functions with an arbitrary number of arguments"
   ]
  },
  {
   "cell_type": "markdown",
   "metadata": {
    "slideshow": {
     "slide_type": "slide"
    }
   },
   "source": [
    "# Recap\n",
    "\n",
    "* Arguments allow input to be provided to functions\n",
    "* When defining a function, multiple arguments must be separated by commas\n",
    "* When we call a function, the order of the arguments we provide must match the order of arguments the function expects\n",
    "* This is why docstrings are helpful!"
   ]
  },
  {
   "cell_type": "markdown",
   "metadata": {
    "slideshow": {
     "slide_type": "slide"
    }
   },
   "source": [
    "# Why does the argument order matter?\n",
    "\n",
    "Let's consider a function that prints a name:"
   ]
  },
  {
   "cell_type": "code",
   "execution_count": null,
   "metadata": {},
   "outputs": [],
   "source": [
    "def print_name(first_name, last_name):\n",
    "    print(first_name, last_name)\n"
   ]
  },
  {
   "cell_type": "markdown",
   "metadata": {
    "slideshow": {
     "slide_type": "fragment"
    }
   },
   "source": [
    "If this function is called using `print_name(Ada, Lovelace)`, then:\n",
    "1. The argument *first_name* is assigned the value of 'Ada'\n",
    "2. The argument *last_name* is assigned the value of 'Lovelace'\n",
    "\n",
    "**By default, the arguments in a function are assigned values in the order they are provided**"
   ]
  },
  {
   "cell_type": "markdown",
   "metadata": {
    "slideshow": {
     "slide_type": "slide"
    }
   },
   "source": [
    "# Keyword arguments\n",
    "\n",
    "Python allows arguments to be assigned in any order using **keyword arguments**.\n",
    "\n",
    "The idea is to provide the names of the arguments as well as their values when calling a function.\n",
    "\n",
    "For example\n",
    "```python\n",
    "print_name('Ada', 'Lovelace')\n",
    "print_name(last_name = 'Lovelace', first_name = 'Ada')\n",
    "```\n",
    "would produce the same result"
   ]
  },
  {
   "cell_type": "markdown",
   "metadata": {
    "slideshow": {
     "slide_type": "slide"
    }
   },
   "source": [
    "# Examples of keyword arguments\n",
    "\n",
    "* You have already seen keyword arguments\n",
    "    * For example, when changing the linewidth of plots\n",
    "```python\n",
    "    plt.plot(x, y, linewidth = 3)\n",
    "```"
   ]
  },
  {
   "cell_type": "markdown",
   "metadata": {
    "slideshow": {
     "slide_type": "slide"
    }
   },
   "source": [
    "# Default arguments\n",
    "\n",
    "If a function argument usually takes on the same value, then we can assign a default value to it.\n",
    "* This means that this argument does not need to have a value passed to it when the function is called.\n",
    "* It also means that this argument must be **optional**\n",
    "\n",
    "To create a **default argument**, the default value of the argument is assigned in the function definition\n",
    "```python\n",
    "def my_func(arg1, arg2, default_arg = default_value)\n",
    "```"
   ]
  },
  {
   "cell_type": "markdown",
   "metadata": {
    "slideshow": {
     "slide_type": "slide"
    }
   },
   "source": [
    "**Example**: The function below prints a string that is provided by the user.  The function uses a default argument to set the value of `string` to \"hello world\""
   ]
  },
  {
   "cell_type": "code",
   "execution_count": null,
   "metadata": {
    "slideshow": {
     "slide_type": "-"
    }
   },
   "outputs": [],
   "source": [
    "# define the function\n",
    "def print_string(string = 'hello world'):\n",
    "    print(string)\n"
   ]
  },
  {
   "cell_type": "markdown",
   "metadata": {
    "slideshow": {
     "slide_type": "fragment"
    }
   },
   "source": [
    "The function can be called without providing an argument"
   ]
  },
  {
   "cell_type": "code",
   "execution_count": null,
   "metadata": {},
   "outputs": [
    {
     "name": "stdout",
     "output_type": "stream",
     "text": [
      "hello world\n"
     ]
    }
   ],
   "source": [
    "print_string()\n"
   ]
  },
  {
   "cell_type": "markdown",
   "metadata": {
    "slideshow": {
     "slide_type": "fragment"
    }
   },
   "source": [
    "The default value of the argument can be overwritten by providing a value when calling the function"
   ]
  },
  {
   "cell_type": "code",
   "execution_count": null,
   "metadata": {},
   "outputs": [
    {
     "name": "stdout",
     "output_type": "stream",
     "text": [
      "new string\n"
     ]
    }
   ],
   "source": [
    "print_string('new string')\n"
   ]
  },
  {
   "cell_type": "markdown",
   "metadata": {
    "slideshow": {
     "slide_type": "slide"
    }
   },
   "source": [
    "# Variable number of arguments\n",
    "\n",
    "Python enables functions with a variable number of arguments to be written using the **unpacking operator** *\n",
    "```python\n",
    "def my_function(*arguments):\n",
    "```\n",
    "\n",
    "The unpacking operator * tells Python to create a tuple out of the arguments it receives"
   ]
  },
  {
   "cell_type": "markdown",
   "metadata": {
    "slideshow": {
     "slide_type": "slide"
    }
   },
   "source": [
    "# Summary\n",
    "\n",
    "* By default, arguments are assigned values in the order they are provided\n",
    "* Keyword arguments can be used to assign values to arguments in any order\n",
    "* Default arguments pre-assign values to optional arguments\n",
    "* The unpacking operator can be used to create functions with a variable number of arguments"
   ]
  }
 ],
 "metadata": {
  "celltoolbar": "Slideshow",
  "kernelspec": {
   "display_name": "Python 3",
   "language": "python",
   "name": "python3"
  },
  "language_info": {
   "codemirror_mode": {
    "name": "ipython",
    "version": 3
   },
   "file_extension": ".py",
   "mimetype": "text/x-python",
   "name": "python",
   "nbconvert_exporter": "python",
   "pygments_lexer": "ipython3",
   "version": "3.8.8"
  }
 },
 "nbformat": 4,
 "nbformat_minor": 4
}
