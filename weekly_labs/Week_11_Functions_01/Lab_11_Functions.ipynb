{
 "cells": [
  {
   "cell_type": "markdown",
   "id": "cc4b7a62-1db3-4c9c-8804-7feb7348e1d6",
   "metadata": {},
   "source": [
    "# Lab 11: Functions"
   ]
  },
  {
   "cell_type": "markdown",
   "id": "5d759ab0",
   "metadata": {},
   "source": [
    "<details>\n",
    "<summary>Need help getting started?</summary>\n",
    "\n",
    "## How to download this Notebook\n",
    "\n",
    "Either:\n",
    "\n",
    "- Click [this link](https://colab.research.google.com/github/engmaths/SEMT10002_2024/blob/main/weekly_labs/Week_11_Functions_01/Lab_11_Functions.ipynb) to open this notebook in Google colab.\n",
    "- You'll need to sign in with a Google account before you can run it.\n",
    "- When you do, hit `Ctrl+F9` to check it all runs.\n",
    "\n",
    "or\n",
    "\n",
    "- Download it to your local computer using\n",
    "\n",
    "    ```bash\n",
    "    git clone https://github.com/engmaths/SEMT10002_2024\n",
    "    ``` \n",
    "\n",
    "    or just use `git pull` to refresh if you've done this already.\n",
    "- Navigate to the subfolder `weekly_labs/Week_11_Functions_01` and open the notebook `Lab_11_Functions.ipynb`.  \n",
    "- For example, in Visual Studio Code, use `Ctrl+K Ctrl+O` to open a folder and select the folder just mentioned.  \n",
    "- Then you can open the notebook file by clicking on it in the left hand explorer sidebar.\n",
    "\n",
    "</details>"
   ]
  },
  {
   "cell_type": "markdown",
   "id": "f00f101f-30c5-4db3-87a4-147508d3dee2",
   "metadata": {},
   "source": [
    "## Exercise 1: In/Outputs\n",
    "\n",
    "1. Write a function to convert a temperature given in Fahrenheit into a temperature in Celsius. \n",
    "   You can do this with the formula \n",
    "   $$T_\\mathrm{Celsius} = \\frac59  \\left(T_\\mathrm{Fahrenheit} - 32\\right)$$\n",
    "\n",
    "2. Write a function that takes two strings as inputs, reverses them both and then concatenates them. \n",
    "   For example, the inputs `\"Ben\"` and `\"Bill\"` should lead to output `\"nEBlliB\"`. \n",
    "   We can quickly reverse a string in Python by using the fact that a string is just a list of characters, and remembering that we can reverse a list by using the **slice** notation — `reversed_list = list[::-1]`.\n",
    "\n",
    "3. Write a function that checks whether a list of numbers contains any primes. \n",
    "   If the list has any primes, it should return `True`. \n",
    "   Otherwise, it should return `False`."
   ]
  },
  {
   "cell_type": "code",
   "execution_count": null,
   "id": "9cc89400",
   "metadata": {},
   "outputs": [],
   "source": [
    "# your code here\n"
   ]
  },
  {
   "cell_type": "markdown",
   "id": "856db7fb-cfc5-45dc-9aaf-713b5cec3301",
   "metadata": {},
   "source": [
    "## Exercise 2: Many In/Outputs\n",
    "\n",
    "1. Write a function that takes two lists as inputs and returns the minimum and maximum number found in either list. \n",
    "   \n",
    "   For example, `find_min_max([1, 2], [3, 4])` should return `(1, 4)`. \n",
    "2. Modify your code so that it can take *any* number of lists as input, finding the minimum and maximum across all inputs.\n"
   ]
  },
  {
   "cell_type": "code",
   "execution_count": null,
   "id": "03587469",
   "metadata": {},
   "outputs": [],
   "source": [
    "# your code here\n"
   ]
  },
  {
   "cell_type": "markdown",
   "id": "d8e93a78-d0de-4f1a-ac18-025325b278e2",
   "metadata": {},
   "source": [
    "## Exercise 3: Scope\n",
    "\n",
    "When you choose a password for a website, they often impose a number of restrictions on your choice — *ie* it must be over 8 letters and contain a mix of lower and upper case letters and numbers. \n",
    "Write a function to test whether a given password is valid or not. \n",
    "Your function should take 1 positional argument (the password we are checking) and 4 optional arguments. \n",
    "These are:\n",
    "\n",
    "- `mininum_length` (defaults to 10)\n",
    "- `minimum_upper` (defaults to one) — this is the minimum number of upper case letters required.\n",
    "- `minimum_lower` (defaults to one) — this is the minimum number of lower case letters required.\n",
    "- `minimum_upper` (defaults to one) — this is the minimum number of upper case letters required.\n",
    "\n",
    "Your function should return `True` if the password is valid. \n",
    "If it's not valid, it should return `False` **and** a string explaining why the password is not valid. \n",
    "If a password fails multiple conditions, you only need to return a string for one of them.\n",
    "\n",
    "For example, I would expect the following results if I called your function:\n",
    "\n",
    "- `check_password_validity(\"Banana9\")` returns `(False, \"Password must have at least 10 characters\")`\n",
    "- `check_password_validity(\"Banana9\", 6)` returns `True`\n",
    "- `check_password_validity(\"Banananana\")` returns `(False, \"Password must have 1 number\")`\n",
    "- `check_password_validity(\"banananana\")` returns `(False, \"Password must have 1 upper case character\")`\n",
    "- `check_password_validity(\"Banananana9\")` returns `True`\n",
    "- `check_password_validity(\"Banananana9\", minimum_upper=2)` returns `(False, \"Password must have 2 upper case characters\")`\n"
   ]
  },
  {
   "cell_type": "code",
   "execution_count": null,
   "id": "6ac634cb",
   "metadata": {},
   "outputs": [],
   "source": [
    "# your code here\n"
   ]
  },
  {
   "cell_type": "markdown",
   "id": "0dcaec93-4ff6-4835-abd6-ccef9447def2",
   "metadata": {},
   "source": [
    "## Exercise 4: Refactoring"
   ]
  },
  {
   "cell_type": "markdown",
   "id": "87ed14c4-c46b-429c-9cbc-28bc0a724b9d",
   "metadata": {},
   "source": [
    "As part of the administration of this course, you are all assigned to groups. \n",
    "This allocation is done via an excel spreadsheet that gives us a list of student ids. \n",
    "However, when it comes to assigning your TA, this list isn't very helpful as we want the TAs to know you by name rather than ID. \n",
    "Another file contains a listing of the student name associated with each ID. \n",
    "\n",
    "To solve this problem, I wrote the code below. \n",
    "It reads the two files and makes a new file which lists the names of everybody in each group. \n",
    "\n",
    "**Note**: this may not work well in Google collab, so I strongly recommend you copy and paste this code into a text editor and run it from the terminal.\n"
   ]
  },
  {
   "cell_type": "code",
   "execution_count": null,
   "id": "3b017019-0af2-468d-af8d-3eb3524535f8",
   "metadata": {},
   "outputs": [],
   "source": [
    "Names_and_ids = \"names_and_ids.txt\"\n",
    "Groups_and_ids = \"groups_and_ids.txt\"\n",
    "Output_file = \"groups_with_names.txt\"\n",
    "\n",
    "namesFromIds = dict()\n",
    "\n",
    "with open(Names_and_ids, \"r\") as f:\n",
    "    for line in f:\n",
    "        name, id = line.split(\",\")\n",
    "\n",
    "        namesFromIds[id.strip(\"\\n\")] = name\n",
    "\n",
    "print(namesFromIds)\n",
    "\n",
    "groups = dict()\n",
    "with open(Groups_and_ids, \"r\") as f:\n",
    "    for line in f:\n",
    "        id_number, group = line.split(\",\")\n",
    "        group = int(group)\n",
    "\n",
    "        if group not in groups:\n",
    "            groups[group] = [namesFromIds[id_number]]\n",
    "        else:\n",
    "            groups[group].append(namesFromIds[id_number])\n",
    "\n",
    "print(groups)\n",
    "\n",
    "with open(Output_file, \"w\") as f:\n",
    "    for g in range(1, 3):\n",
    "        string_to_write = str(g) + \",\"\n",
    "        for name in groups[g]:\n",
    "            string_to_write += name + \",\"\n",
    "        f.write(string_to_write + \"\\n\")\n"
   ]
  },
  {
   "cell_type": "markdown",
   "id": "41a216ec-3d08-4b4d-98b5-a441684ed4f7",
   "metadata": {},
   "source": [
    "The code works as intended, but is hard to read- there's no functions, no comments, and many violations of the unit style guide. Please refactor this code to improve readability. As you're refactoring, make sure to keep checking that you haven't changed the output."
   ]
  },
  {
   "cell_type": "code",
   "execution_count": null,
   "id": "6500c8d6",
   "metadata": {},
   "outputs": [],
   "source": [
    "# your code here\n"
   ]
  },
  {
   "cell_type": "markdown",
   "id": "7a41a36e-29c6-4773-a792-736ba43cde72",
   "metadata": {},
   "source": [
    "## Exercise 5: Recursive Functions\n",
    "\n",
    "Solve all tasks below using recursion.\n",
    "\n",
    "1. The Fibonacci sequence is defined as $F(n) = F(n-1) \\cdot F(n-2)$, with $F(1) = 1$ and $F(2) = 1$. \n",
    "   \n",
    "   > Write a function to calculate Fibonacci numbers.\n",
    "2. Given a list of data, we often want to know if a certain value is contained in the list. \n",
    "   A naive solution to this problem loops through the entire list, checking to see if each element is a match. \n",
    "   \n",
    "   If the list of data is ordered, then we can do better than this — rather than checking every value, we start by checking the middle value:\n",
    "   - If this is a match, we're done.\n",
    "   - If the middle value is less than the value we're looking for, then we search only the first-half of the list. \n",
    "   - If the middle value is greater, then we search the second-half instead. \n",
    "  \n",
    "   This sort of search algorithm is known as **binary search**, because we're splitting the list into two at each level. \n",
    "   \n",
    "   > Write a function to implement binary search for integers.\n",
    "   > It should take a list of integers and a target as inputs and return `True` if and only if the target is in the list. \n",
    "   > Otherwise, it should return `False`.\n",
    "3. A palindrome is a word or phrase which reads the same forward as it does backwards — *ie* \"level\" and \"nurses run\" are both palindromes. \n",
    "   \n",
    "   > Write a recursive function that takes a string as input and returns `True` *if and only if* the string is a palindrome.\n"
   ]
  },
  {
   "cell_type": "code",
   "execution_count": null,
   "id": "3b7b4231",
   "metadata": {},
   "outputs": [],
   "source": [
    "# your code here\n"
   ]
  },
  {
   "cell_type": "markdown",
   "id": "c5f4135a-2beb-4176-b1c6-fe94824ef325",
   "metadata": {},
   "source": [
    "## Bonus Exercise\n",
    "\n",
    "I was initially going to do this question for [Exercise 3](#exercise-3), but changed my mind.\n",
    "It's entirely optional, but I've included it here rather than just delete it.\n"
   ]
  },
  {
   "cell_type": "markdown",
   "id": "eb70ef4c",
   "metadata": {},
   "source": [
    "A mass is thrown upwards with speed $v_0 = 10~\\mathrm{m\\,s^{-1}}$.\n",
    "The equation for the height at time $t$ is given by\n",
    "$$h(t) = v_0 t - \\frac{1}{2}\\, g t^2,$$\n",
    "where $t$ is time and $g = 9.8~\\mathrm{m\\,s^{-2}}$ is the gravitational acceleration.\n",
    "\n",
    "The function below will calculate the height of the mass at a given time."
   ]
  },
  {
   "cell_type": "code",
   "execution_count": null,
   "id": "1e835cb5-162d-4c31-8fa3-3292ed94d5a7",
   "metadata": {},
   "outputs": [],
   "source": [
    "def height_of_mass(t):\n",
    "    gravity = 9.8\n",
    "    v0 = 10\n",
    "\n",
    "    height = v0 * t - (0.5 * gravity * t**2)\n",
    "\n",
    "    return height\n",
    "\n",
    "print(height_of_mass(1))\n"
   ]
  },
  {
   "cell_type": "markdown",
   "id": "752a2302-72e7-4353-8e8e-b74fcc2f71fc",
   "metadata": {},
   "source": [
    "1. Modify the function to accept three inputs:\n",
    "   - time (required)\n",
    "   - mass (optional, with default value of $1$)   \n",
    "   - gravity (optional, with default value of $9.8$)\n",
    "  \n",
    "2. Modify the function to also calculate and return the potential energy of the ball at time $t$.\n",
    "3. Write a second function that calls the height of mass function for values of $t \\in [0, 3]$, with a step of $0.1$. \n",
    "   Store the outputs in two lists (one for the heights, and one for the potential energies). \n",
    "   Use matplotlib to create a single plot showing height vs time and potential energy vs time. \n",
    "   Then create a second plot showing what would happen if the ball was thrown on Mars (use $g_\\mathrm{Mars} = 3.73~\\mathrm{m\\,s^{-2}}$. \n",
    "   Your plot should look like the image below:\n",
    "   \n",
    "   <img src=\"../../img/BallHeight.png?raw=true\" width=\"60%\" style=\"display: block; margin: auto;\">\n",
    "   \n",
    "   Think carefully about how many (and which) functions you should use for this exercise and remember the rule of thumb: a function should do one thing.\n",
    "\n",
    "4. **Bonus**: Currently our solution continues to calculate values even when the height of the ball has gone below zero (*ie* it's hit the ground).\n",
    "   Modify the code to stop calculating results when the height of the ball goes below zero. \n",
    "   These changes shouldn't break the code you've written previously!\n",
    "\n"
   ]
  },
  {
   "cell_type": "code",
   "execution_count": null,
   "id": "e9b4851b",
   "metadata": {},
   "outputs": [],
   "source": [
    "# your code here\n"
   ]
  }
 ],
 "metadata": {
  "kernelspec": {
   "display_name": "base",
   "language": "python",
   "name": "python3"
  },
  "language_info": {
   "codemirror_mode": {
    "name": "ipython",
    "version": 3
   },
   "file_extension": ".py",
   "mimetype": "text/x-python",
   "name": "python",
   "nbconvert_exporter": "python",
   "pygments_lexer": "ipython3",
   "version": "3.12.7"
  }
 },
 "nbformat": 4,
 "nbformat_minor": 5
}
