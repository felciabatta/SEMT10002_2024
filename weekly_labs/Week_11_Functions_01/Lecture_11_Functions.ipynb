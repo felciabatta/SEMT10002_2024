{
 "cells": [
  {
   "cell_type": "markdown",
   "id": "cc4b7a62-1db3-4c9c-8804-7feb7348e1d6",
   "metadata": {},
   "source": [
    "# Lecture 11: Functions"
   ]
  },
  {
   "cell_type": "markdown",
   "id": "5d759ab0",
   "metadata": {},
   "source": [
    "<details>\n",
    "<summary>Need help getting started?</summary>\n",
    "\n",
    "## Recap\n",
    "\n",
    "So far in this course, you've seen:\n",
    "* How to read, process, and store data as either a variable (*eg* as an `Integer` or `String`) or in a data structure (*ie* `List`, `Dictionary` of `Tuple`).\n",
    "* How to control the sequence of operations in your code with branching (*ie* if-then-else statements) or iteration (*ie* loops).\n",
    "* How to read and write from files.\n",
    "* How to plot data with matplotlib.\n",
    "\n",
    "Today, we will look at how we can group our code into functions to reduce repetition of code and to improve readability.\n",
    "\n",
    "To check your learning from the pre-watch videos, [this separate notebook](./Recap_11_Functions.ipynb) contains a number of quick comprehension checking exercises.\n",
    "Please run through these first and use the results to guide your learning.\n",
    "\n",
    "\n",
    "## How to download this Notebook\n",
    "\n",
    "Either:\n",
    "\n",
    "- Click [this link](https://colab.research.google.com/github/engmaths/SEMT10002_2024/blob/main/weekly_labs/Week_11_Functions_01/Lecture_11_Functions.ipynb) to open this notebook in Google colab.  You'll need to sign in with a Google account before you can run it.  When you do, hit `Ctrl+F9` to check it all runs.\n",
    "\n",
    "or\n",
    "\n",
    "- Download it to your local computer using \n",
    "    \n",
    "    ```bash\n",
    "    git clone https://github.com/engmaths/SEMT10002_2024\n",
    "    ``` \n",
    "    \n",
    "    or just use `git pull` to refresh if you've done this already.\n",
    "- Navigate to the subfolder `weekly_labs/Week_11_Functions_01` and open the notebook `Lecture_11_Functions.ipynb`.  For example, in Visual Studio Code, use `Ctrl+K Ctrl+O` to open a folder and select the folder just mentioned.  Then you can open the notebook file by clicking on it in the left hand explorer sidebar\n",
    "\n",
    "</details>"
   ]
  },
  {
   "cell_type": "markdown",
   "id": "23450f72",
   "metadata": {},
   "source": [
    "## Function Definition and Syntax\n"
   ]
  },
  {
   "cell_type": "markdown",
   "id": "29e1c69f",
   "metadata": {},
   "source": [
    "Functions are a collection of lines of code that have been grouped together and given a name. \n",
    "We've already used many of the built-in Python functions (such as `len`, `print`, `sum`). \n",
    "Today we'll look at defining our own custom functions. \n"
   ]
  },
  {
   "cell_type": "markdown",
   "id": "06ff39ee",
   "metadata": {},
   "source": [
    "To define a function we use the `def` keyword, followed by the name of the function, some brackets (empty for now) and finally a colon `:`. \n",
    "The lines of code that we want to be executed when we **call** the function are then written on the lines below (and indented one level). \n",
    "For example, a function to print a message could be written as follows:\n"
   ]
  },
  {
   "cell_type": "code",
   "execution_count": null,
   "id": "0700f9d1-1683-48c1-82b8-1b26b78b4f5b",
   "metadata": {},
   "outputs": [],
   "source": [
    "def print_greeting_message():\n",
    "    print(\"This is a greeting message\")\n"
   ]
  },
  {
   "cell_type": "markdown",
   "id": "afa26009-08c4-4835-91c3-3d68ec049cea",
   "metadata": {},
   "source": [
    "We call the first line (`def <...>`) the function **header** and the lines below the function **body**. \n",
    "\n",
    "Note that running this block of code doesn't do anything — defining a function is a bit like writing a recipe for a cake. \n",
    "It tells us what to do when we want to make the cake, but writing down the recipe by itself won't get us any delicious cake. \n",
    "If we want some cake, we'll have to actually follow the instructions set down in the recipe. \n",
    "In code, we do this by **calling** the function. \n",
    "In Python, we do this by typing the name of the function followed by some brackets `()`:"
   ]
  },
  {
   "cell_type": "code",
   "execution_count": null,
   "id": "0ec1b048-d685-4934-a685-6c85dacaf223",
   "metadata": {},
   "outputs": [],
   "source": [
    "print_greeting_message()\n"
   ]
  },
  {
   "cell_type": "markdown",
   "id": "a4a5d566-fa4c-4e34-8433-d90cf18eb43b",
   "metadata": {},
   "source": [
    "As with lists and loops, the code that is part of the function is denoted by indentation. \n",
    "The function definition is considered finished the first time Python encounters a line at the same level of indentation as the definition."
   ]
  },
  {
   "cell_type": "code",
   "execution_count": null,
   "id": "f98698b9-3d2c-4851-8ca6-fd9eee8114e2",
   "metadata": {},
   "outputs": [],
   "source": [
    "def print_longer_greeting_message():\n",
    "    print(\"Calling the function will run this line\")\n",
    "    print(\"and this line\")\n",
    "print(\"but not this line\")\n",
    "\n",
    "print_longer_greeting_message()\n"
   ]
  },
  {
   "cell_type": "markdown",
   "id": "fba3a461-db0c-4eaa-8d27-3ab0292cadb5",
   "metadata": {},
   "source": [
    "If the result above is surprising to you, discuss with someone on your group, or your TA."
   ]
  },
  {
   "cell_type": "markdown",
   "id": "326411ef-2b9a-48bd-9837-cb3a35969a6d",
   "metadata": {},
   "source": [
    "## Function Inputs and Outputs\n",
    "\n",
    "Functions can have **inputs** (also called **arguments** or **parameters**) and **outputs**."
   ]
  },
  {
   "cell_type": "markdown",
   "id": "f5e7158d",
   "metadata": {},
   "source": [
    "### Inputs\n",
    "\n",
    "To define a function with an input, we declare the name of the argument inside the round brackets in the header.\n",
    "\n",
    "For example, to define a function that greets individuals by their name, we could write:"
   ]
  },
  {
   "cell_type": "code",
   "execution_count": null,
   "id": "7360274e-b0cc-4a16-a92b-dca33dcde086",
   "metadata": {},
   "outputs": [],
   "source": [
    "def print_greeting(name):\n",
    "    print (\"Hello \", name, \"!\")\n",
    "\n",
    "print_greeting(\"Martin\")\n",
    "print_greeting(\"Arthur\")\n"
   ]
  },
  {
   "cell_type": "markdown",
   "id": "b9f00296-cb09-4731-a7e7-d606823ec307",
   "metadata": {},
   "source": [
    "If we try to run the function without the correct number of inputs, we'll get an error:"
   ]
  },
  {
   "cell_type": "code",
   "execution_count": null,
   "id": "36556bc8-3ac3-4651-b2ec-4471657c8d05",
   "metadata": {},
   "outputs": [],
   "source": [
    "print_greeting()\n"
   ]
  },
  {
   "cell_type": "code",
   "execution_count": null,
   "id": "1acc298d-9821-444f-9eaa-bbabd66877d0",
   "metadata": {},
   "outputs": [],
   "source": [
    "print_greeting(\"Martin\", \"Arthur\")\n"
   ]
  },
  {
   "cell_type": "markdown",
   "id": "25698bc7-0b81-439e-a30c-e0911df9008e",
   "metadata": {},
   "source": [
    "### Outputs\n",
    "\n",
    "To give a function an output, we use the keyword `return`. \n",
    "Whatever statement, expression or variable we write after `return` will be outputted by the function. \n",
    "\n",
    "For example, to define a function to square some numbers, we could write:"
   ]
  },
  {
   "cell_type": "code",
   "execution_count": null,
   "id": "e0b3abe4-8754-4c7e-9a1d-8921a0220def",
   "metadata": {},
   "outputs": [],
   "source": [
    "def square_number(number):\n",
    "    return number**2\n",
    "\n",
    "x = square_number(4)\n",
    "print(x)\n"
   ]
  },
  {
   "cell_type": "markdown",
   "id": "78603b7f-7e92-46b0-a18b-954856311a67",
   "metadata": {},
   "source": [
    "A `return` statement will not only cause a function to output a value, but also prevent the function from running any further lines. \n",
    "It's a little bit like a `break` statement in a loop. \n",
    "\n",
    "For example, if I had the following function definition:"
   ]
  },
  {
   "cell_type": "code",
   "execution_count": null,
   "id": "84e7e052-5a21-4afa-89a3-dbc484d50d91",
   "metadata": {},
   "outputs": [],
   "source": [
    "def print_sum_of_numbers(numbers):\n",
    "    print(\"Input numbers are:\", numbers)\n",
    "    sum_of_numbers = sum(numbers)\n",
    "\n",
    "    return sum_of_numbers\n",
    "\n",
    "    print(\"Sum of numbers are:\", sum_of_numbers)\n"
   ]
  },
  {
   "cell_type": "markdown",
   "id": "5c223917-4364-49df-bb3e-0f18eb9e92fb",
   "metadata": {},
   "source": [
    "Then the bottom line with `print` would *never* run as the function will always return before it gets to it."
   ]
  },
  {
   "cell_type": "code",
   "execution_count": null,
   "id": "a31cb940-a2e3-4687-b195-89095045da8c",
   "metadata": {},
   "outputs": [],
   "source": [
    "print_sum_of_numbers([1, 3, 5])\n"
   ]
  },
  {
   "cell_type": "code",
   "execution_count": null,
   "id": "a3f19887-841a-4c81-94ff-34b9f11c2b60",
   "metadata": {},
   "outputs": [],
   "source": [
    "def print_sum_of_numbers(numbers):\n",
    "    print(\"Input numbers are:\", numbers)\n",
    "    sum_of_numbers = sum(numbers)\n",
    "    print(\"Sum of numbers are:\", sum_of_numbers)\n",
    "    return sum_of_numbers\n",
    "\n",
    "print_sum_of_numbers([1, 3, 5])\n"
   ]
  },
  {
   "cell_type": "markdown",
   "id": "91ec5d9d",
   "metadata": {},
   "source": [
    "**Note**: there is a big difference between the `print` function and `return` statement.\n",
    "- The `return` keyword allows you to assign the output of the function to a new variable — in addition, the console will often display the returned expression *as if* `print` was called.\n",
    "- The `print` function however, *only* displays text in the console — `print` does not allow you to assign the displayed text/value to a variable."
   ]
  },
  {
   "cell_type": "markdown",
   "id": "923ed8ae-add2-4136-af3b-2454ffe6b8e8",
   "metadata": {},
   "source": [
    "A function can have multiple return statements in, but only one will ever run. For example:"
   ]
  },
  {
   "cell_type": "code",
   "execution_count": null,
   "id": "0daf6e77-e4dc-40aa-aef1-14af157126f6",
   "metadata": {},
   "outputs": [],
   "source": [
    "def absolute_value(number):\n",
    "    if number < 0:\n",
    "        print(\"Returning negated number\")\n",
    "        return -number\n",
    "    print(\"Returning un-negated number\")\n",
    "    return number\n",
    "\n",
    "print(absolute_value(-10))\n",
    "print(absolute_value(10))\n"
   ]
  },
  {
   "cell_type": "markdown",
   "id": "4916c631-e7d2-480a-929f-08440f6676d8",
   "metadata": {},
   "source": [
    "## Functions with Multiple Inputs and Outputs\n"
   ]
  },
  {
   "cell_type": "markdown",
   "id": "f64db5ea",
   "metadata": {},
   "source": [
    "### Inputs\n",
    "\n",
    "A function may have more than one input. \n",
    "When we define a function, the variables defined in the header are called **parameters**. \n",
    "Parameters *do not have a value when they are defined* — we're just telling the program that we want to have certain variables available to us as inputs. \n",
    "To create a function with multiple inputs, we simply add more than one parameter in the header. \n",
    "For example:"
   ]
  },
  {
   "cell_type": "code",
   "execution_count": null,
   "id": "50dd11b1-99b8-4bd0-b107-e5b7278d1c67",
   "metadata": {},
   "outputs": [],
   "source": [
    "def add_two_numbers(number1, number2):\n",
    "    return number1 + number2\n",
    "\n",
    "print(add_two_numbers(1, 2))\n"
   ]
  },
  {
   "cell_type": "markdown",
   "id": "df625c26-8c81-4ec8-aeb5-056b156dbb77",
   "metadata": {},
   "source": [
    "When we call a function, we provide it with **arguments** (**args** for short). \n",
    "When we call a function, the **value** of each argument is assigned to a parameter. \n",
    "Here, we are using **positional** parameters, so the assignment is determined by ordering — the first argument is assigned to the first parameter and so on."
   ]
  },
  {
   "cell_type": "code",
   "execution_count": null,
   "id": "6030f429-7fb0-4e5d-be39-3ebd74b26699",
   "metadata": {},
   "outputs": [],
   "source": [
    "def print_two_inputs(input1, input2):\n",
    "    print(\"Input 1 is\", input1)\n",
    "    print(\"Input 2 is\", input2)\n",
    "\n",
    "print_two_inputs(\"Hi\", \"Bye\")\n"
   ]
  },
  {
   "cell_type": "markdown",
   "id": "b21337d0-08f0-44da-bf6d-dd973f3ee77d",
   "metadata": {},
   "source": [
    "As an alternative to this, when we call the function, we can use the names of the parameters to overwrite this ordering."
   ]
  },
  {
   "cell_type": "code",
   "execution_count": null,
   "id": "7eca966c-3b33-44fb-9cb6-db7dc706af4c",
   "metadata": {},
   "outputs": [],
   "source": [
    "print_two_inputs(input2=\"Bye\", input1=\"Hi\")\n"
   ]
  },
  {
   "cell_type": "markdown",
   "id": "e5f23b39-d592-4e29-85fd-3004a6c31c9a",
   "metadata": {},
   "source": [
    "Python also lets us provide default values for parameters. \n",
    "This makes the input **optional** — if nothing is provided, the function will use the default. \n",
    "Parameters that have been given a default value are known as **keyword** parameters."
   ]
  },
  {
   "cell_type": "code",
   "execution_count": null,
   "id": "c0e7d1d9-796a-4818-bf22-bdb672eb0509",
   "metadata": {},
   "outputs": [],
   "source": [
    "def print_three_inputs(input1, input2, input3=\"Wait\"):\n",
    "    print(\"Input 1 is\", input1)\n",
    "    print(\"Input 2 is\", input2)\n",
    "    print(\"Input 3 is\", input3)\n",
    "\n",
    "print_three_inputs(\"Hello\", \"My\", \"Name\")\n"
   ]
  },
  {
   "cell_type": "code",
   "execution_count": null,
   "id": "4f2c6424-e19b-47f8-9291-02c58c6fb843",
   "metadata": {},
   "outputs": [],
   "source": [
    "print_three_inputs(\"Hello\", \"My\")\n"
   ]
  },
  {
   "cell_type": "markdown",
   "id": "3866d45d-579e-4bff-9e30-e99a3fbbd636",
   "metadata": {},
   "source": [
    "While it's fine to have functions that use both positional and keyword parameters, the keyword parameters must always come *after* the positional ones. The code below, for example, will cause an error."
   ]
  },
  {
   "cell_type": "code",
   "execution_count": null,
   "id": "fd79c0cc-6add-402f-8690-4c6c7055a268",
   "metadata": {},
   "outputs": [],
   "source": [
    "def print_four_inputs(input1=\"default\", input2, input3, input4):\n"
   ]
  },
  {
   "cell_type": "markdown",
   "id": "07ac1d6c-3f75-49f6-b587-eaf6714783a6",
   "metadata": {},
   "source": [
    "Finally, in some situations, we might not want to specify the number of inputs a function has in advance. \n",
    "We can handle this situation in Python by using the **unpacking** operator `*`. \n",
    "If I define a function as below:"
   ]
  },
  {
   "cell_type": "code",
   "execution_count": null,
   "id": "2520da2c-e0bc-4cd2-a989-d66fd482b815",
   "metadata": {},
   "outputs": [],
   "source": [
    "def print_any_number_of_inputs(*inputs):\n",
    "    print(type(inputs))\n",
    "    print(inputs)\n",
    "\n",
    "    for n, n_input in enumerate(inputs):\n",
    "        print(\"Input\", n, \"is\", n_input)\n"
   ]
  },
  {
   "cell_type": "markdown",
   "id": "5b9dd74f-c651-4996-a9d8-6cc26a60ea1f",
   "metadata": {},
   "source": [
    "Then however many inputs I provide, they will be turned into a tuple."
   ]
  },
  {
   "cell_type": "code",
   "execution_count": null,
   "id": "342b8f6c-9f49-41fa-8d29-58fc34505d6c",
   "metadata": {},
   "outputs": [],
   "source": [
    "print_any_number_of_inputs(1)\n"
   ]
  },
  {
   "cell_type": "code",
   "execution_count": null,
   "id": "cb9b0af0-d538-4845-88a0-86150dfd9d0e",
   "metadata": {},
   "outputs": [],
   "source": [
    "print_any_number_of_inputs(1, 2)\n"
   ]
  },
  {
   "cell_type": "code",
   "execution_count": null,
   "id": "76d8b418-0e4b-4073-abc7-e6b35d2a376c",
   "metadata": {},
   "outputs": [],
   "source": [
    "print_any_number_of_inputs(1, 2, 3, 4, 5, 6)\n"
   ]
  },
  {
   "cell_type": "markdown",
   "id": "ecbc9bee-b1f9-40c3-a8bd-386e192cd331",
   "metadata": {},
   "source": [
    "### Outputs\n",
    "\n",
    "A Python function can also have multiple outputs. For example, we can write the function:"
   ]
  },
  {
   "cell_type": "code",
   "execution_count": null,
   "id": "e3fe05bd-6fba-48cb-986d-1b15dc652531",
   "metadata": {},
   "outputs": [],
   "source": [
    "def calculate_sum_and_difference(number1, number2):\n",
    "    sum_of_numbers = number1 + number2\n",
    "    difference_of_numbers = abs(number1 - number2)\n",
    "\n",
    "    return sum_of_numbers, difference_of_numbers\n"
   ]
  },
  {
   "cell_type": "markdown",
   "id": "1e8b6a28-9682-4ca6-afc7-76c5eb19ed0a",
   "metadata": {},
   "source": [
    "If we assign the result of calling this function to a single variable, we'll get a tuple with two elements (each corresponding to one of the outputs)."
   ]
  },
  {
   "cell_type": "code",
   "execution_count": null,
   "id": "dc27d266-05e5-4a87-a033-5a594ccf298d",
   "metadata": {},
   "outputs": [],
   "source": [
    "result = calculate_sum_and_difference(3, 4)\n",
    "print(type(result))\n",
    "print(result)\n"
   ]
  },
  {
   "cell_type": "markdown",
   "id": "b86eab65-a2ec-486e-ac39-3bdab41500c2",
   "metadata": {},
   "source": [
    "Alternatively, we can unpack the tuple directly into individual variables."
   ]
  },
  {
   "cell_type": "code",
   "execution_count": null,
   "id": "458dcdf7-58de-4f42-a828-6df70a7d2f0a",
   "metadata": {},
   "outputs": [],
   "source": [
    "sum_of_numbers, difference_of_numbers = calculate_sum_and_difference(3, 4)\n",
    "print(type(sum_of_numbers))\n",
    "print(sum_of_numbers)\n",
    "print(type(difference_of_numbers))\n",
    "print(difference_of_numbers)\n"
   ]
  },
  {
   "cell_type": "markdown",
   "id": "87afd1f2-57cf-4ec1-851b-f90cdfdb724f",
   "metadata": {},
   "source": [
    "## Function Scope\n",
    "\n",
    "Any variables or parameters created inside a function are *local*. \n",
    "This means they cannot be accessed outside of the function. \n",
    "For example, the following code will give an error:\n"
   ]
  },
  {
   "cell_type": "code",
   "execution_count": null,
   "id": "f05a8cfa-d227-4c1c-a2a9-29e0d28875e8",
   "metadata": {},
   "outputs": [],
   "source": [
    "def absolute_value(number):\n",
    "    if number < 0:\n",
    "        return -number\n",
    "    return number\n",
    "\n",
    "result = absolute_value(5)\n",
    "print(number)\n"
   ]
  },
  {
   "cell_type": "markdown",
   "id": "9bba454d-dde8-4abb-9a8d-d78ef0fe4d49",
   "metadata": {},
   "source": [
    "This is because the variable `number` is not defined in the global scope — it's only defined within the local scope of the function. \n",
    "The same idea applies across functions. \n",
    "For example:"
   ]
  },
  {
   "cell_type": "code",
   "execution_count": null,
   "id": "9609519e-4212-4b55-a4a0-b5e31cf57de7",
   "metadata": {},
   "outputs": [],
   "source": [
    "def negate(number_to_negate):\n",
    "    return -number_to_negate\n",
    "\n",
    "def add_two_positive_values(n1, n2):\n",
    "\n",
    "    if n1 < 0:\n",
    "        n1 = negate(number_to_negate)\n",
    "\n",
    "    if n2 < 0:\n",
    "        n2 = negate(number_to_negate)\n",
    "\n",
    "    return n1+n2\n",
    "\n",
    "add_two_positive_values(-3, 5)\n"
   ]
  },
  {
   "cell_type": "markdown",
   "id": "44c06aa8-8a72-4ce6-9578-f7fef54f41c0",
   "metadata": {},
   "source": [
    "The code above gives an error because each function gets its *own* local scope. \n",
    "Variables defined in one function are not available to other functions. \n",
    "An advantage of this, is that we can use the same variable name within multiple different functions and won't get an error. \n",
    "For example:"
   ]
  },
  {
   "cell_type": "code",
   "execution_count": null,
   "id": "56d83a3a-410a-4338-9975-bf346beef373",
   "metadata": {},
   "outputs": [],
   "source": [
    "def add_two_numbers(number1, number2):\n",
    "    print(\"Number 1 is\", number1, \"number 2 is\", number2)\n",
    "    return number1 + number2\n",
    "\n",
    "def subtract_two_numbers(number1, number2):\n",
    "    print(\"Number 1 is\", number1, \"number 2 is\", number2)\n",
    "    return number1 - number2\n",
    "\n",
    "def multiply_two_numbers(number1, number2):\n",
    "    print(\"Number 1 is\", number1, \"number 2 is\", number2)\n",
    "    return number1 * number2\n",
    "\n",
    "number1 = 9\n",
    "number2 = 3\n",
    "print(\"Add\")\n",
    "print(add_two_numbers(1, 2))\n",
    "print(\"Subtract\")\n",
    "print(subtract_two_numbers(4, 3))\n",
    "print(\"Multiply\")\n",
    "print(multiply_two_numbers(3, 5))\n",
    "print(\"Numbers in global\")\n",
    "print(\"Number 1 is\", number1, \"number 2 is\", number2)\n"
   ]
  },
  {
   "cell_type": "markdown",
   "id": "d7ef888e-6206-4b17-ae3e-3f652dc5ef65",
   "metadata": {},
   "source": [
    "Functions can however access variables defined in the global scope. The following code should run without errors:"
   ]
  },
  {
   "cell_type": "code",
   "execution_count": null,
   "id": "61592c20-6b68-4f77-b4f2-26fe65d7e605",
   "metadata": {},
   "outputs": [],
   "source": [
    "min_number = 5\n",
    "\n",
    "def calculate_range(max_number):\n",
    "    print(\"Range is: \", max_number-min_number)\n",
    "\n",
    "calculate_range(10)\n"
   ]
  },
  {
   "cell_type": "markdown",
   "id": "aa8dc91a-78c0-41f1-baed-930dfcfe4092",
   "metadata": {},
   "source": [
    "This is because the variable `min_number` has been defined in the global scope, and so can be accessed from the function. \n",
    "When looking for a variable, Python will *first* check the local scope of the function and then if it's not found there, it will check the global scope. \n",
    "Two important things to note:\n",
    "\n",
    "1. In general, writing functions like this is a **bad idea** — the result of the function depends on the *state* of the program (*ie* what the function returns will change if `min_number` is re-assigned).\n",
    "2. This makes the code hard to reason about and is a source of bugs. \n",
    "3. I'm including it here as an example, but in general you should not be doing this.\n",
    "4. If we create a variable *anywhere* in the local scope, it will override the value from the global scope. The following code will produce an error:\n",
    "   "
   ]
  },
  {
   "cell_type": "code",
   "execution_count": null,
   "id": "df2c0531-acfd-4492-9ccd-b1f4bfc11e3c",
   "metadata": {},
   "outputs": [],
   "source": [
    "min_number = 5\n",
    "\n",
    "def calculate_range(max_number):\n",
    "    print(\"Range is: \", max_number-min_number)\n",
    "    min_number = 2\n",
    "\n",
    "calculate_range(10)\n"
   ]
  },
  {
   "cell_type": "markdown",
   "id": "72779549-8f13-40c4-92d7-40fbec8a8d05",
   "metadata": {},
   "source": [
    "Here, we get an error because Python has determined that `min_number` is local, but we try to use it before it is assigned a value (in the local scope). \n",
    "Even though it's already been defined and assigned a value in the global scope, as far as Python is concerned that's a totally different variable."
   ]
  },
  {
   "cell_type": "markdown",
   "id": "0a167c53-8547-42f7-8c95-82c88773f832",
   "metadata": {},
   "source": [
    "To recap, variables defined within a function are only accessible to that function — we can use the same variable name in multiple functions (and in global scope) simultaneously. \n",
    "Python will treat these variables are three different things, even though they have the same name. \n",
    "You may want to try using the Python code visualiser [here](https://pythontutor.com/render.html#mode=display) to see how this works in action."
   ]
  },
  {
   "cell_type": "markdown",
   "id": "d5eeb099-6ccd-43b7-a673-d043c5099e73",
   "metadata": {},
   "source": [
    "## Recursion\n",
    "\n",
    "Functions can call other functions — including themselves."
   ]
  },
  {
   "cell_type": "markdown",
   "id": "a40541db",
   "metadata": {},
   "source": [
    "It is perfectly valid Python to write:\n",
    "\n",
    "```python\n",
    "def my_function(arg):\n",
    "    print(arg)\n",
    "    my_function(arg)\n",
    "\n",
    "my_function(1)\n",
    "```\n",
    "\n",
    "Functions that call themselves are known as **recursive functions**.\n",
    "But, I do not recommend trying to run the code above — the function will keep calling itself forever (or in practice, until you run hit the **recursion limit** set by Python).\n",
    "\n",
    "However, recursive functions **can** be useful if they are written correctly. \n",
    "A proper recursive function should have:\n",
    "\n",
    "1. A **base case** — This defines a subset of inputs which don't require further recursion — if these inputs are encountered, the function should instead return something.\n",
    "2. A **recursive case** — This defines what the function should do with inputs that aren't base cases. \n",
    "   This should end with a recursive call (*ie* calling the function from within itself), with a different input.\n",
    "\n",
    "The classic example of a recursive function is calculating the factorial of a number. We can write a function to calculate the factorial of a number as follows:"
   ]
  },
  {
   "cell_type": "code",
   "execution_count": null,
   "id": "f10ee122-4fe4-4f84-8501-b9a625bd49d6",
   "metadata": {},
   "outputs": [],
   "source": [
    "def factorial(n):\n",
    "    if n == 1:\n",
    "        return 1\n",
    "    else:\n",
    "        return n * factorial(n - 1)\n",
    "\n",
    "print(factorial(1))\n",
    "print(factorial(2))\n",
    "print(factorial(3))\n",
    "print(factorial(4))\n"
   ]
  },
  {
   "cell_type": "markdown",
   "id": "5865367f-82a7-41b7-a35f-62aab715c503",
   "metadata": {},
   "source": [
    "Here, the first part of the if statement handles the base case, and the second part handles the recursive case. \n",
    "The recursive call is `factorial(n-1)`. \n",
    "\n",
    "It is of course possible to write a function that calculates the factorial of a number without recursion. \n",
    "We could for example, write:"
   ]
  },
  {
   "cell_type": "code",
   "execution_count": null,
   "id": "31cb9188-4cd7-4c79-a47c-007d2a96961b",
   "metadata": {},
   "outputs": [],
   "source": [
    "def factorial_without_recursion(n):\n",
    "    answer = n\n",
    "    while n > 1:\n",
    "        n = n - 1\n",
    "        answer *= n\n",
    "\n",
    "    return answer\n",
    "\n",
    "print(factorial(1))\n",
    "print(factorial(2))\n",
    "print(factorial(3))\n",
    "print(factorial(4))\n"
   ]
  },
  {
   "cell_type": "markdown",
   "id": "3ac07464-a6bc-40ba-a04e-08f70186920e",
   "metadata": {},
   "source": [
    "In general, any problem that can be solved with recursion can also be solved with (possibly nested) loops.\n",
    "So when should we use recursion and when should we not? \n",
    "In part, this choice will come down to which solution runs more **efficiently** (*ie* in less time or using less memory), and in part, it will depend on **readability**. \n",
    "Going into the details of which approach is more efficient for which classes of problems is beyond the scope of this course, so we'll only think about readability. \n",
    "\n",
    "> Personally, I think recursive functions are harder to reason about than non-recursive functions, so my rule of thumb is to use a non-recursive function if I can. \n",
    "> However, if a problem has something that feels naturally recursive (*ie* it maps nicely to the base case / recursive case pattern), then I'd prefer recursion. \n",
    "\n",
    "In practice, there are a relatively small number of (often quite important) problems that naturally map this way. \n",
    "We'll see one of these (searching) later in the course."
   ]
  }
 ],
 "metadata": {
  "kernelspec": {
   "display_name": "base",
   "language": "python",
   "name": "python3"
  },
  "language_info": {
   "codemirror_mode": {
    "name": "ipython",
    "version": 3
   },
   "file_extension": ".py",
   "mimetype": "text/x-python",
   "name": "python",
   "nbconvert_exporter": "python",
   "pygments_lexer": "ipython3",
   "version": "3.12.7"
  }
 },
 "nbformat": 4,
 "nbformat_minor": 5
}
