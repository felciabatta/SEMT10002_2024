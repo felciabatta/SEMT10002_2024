{
 "cells": [
  {
   "cell_type": "markdown",
   "id": "16c271fd",
   "metadata": {
    "slideshow": {
     "slide_type": "slide"
    }
   },
   "source": [
    "# Computer Programming and Algorithms\n",
    "\n",
    "## Week 1.1: Objects and Variables\n",
    "\n",
    "<img src=\"https://github.com/engmaths/EMAT10007_2023/blob/main/weekly_content/img/full-colour-logo-UoB.png?raw=true\" width=\"20%\">\n",
    "</p>"
   ]
  },
  {
   "cell_type": "markdown",
   "id": "31c4cdea",
   "metadata": {
    "jp-MarkdownHeadingCollapsed": true,
    "slideshow": {
     "slide_type": "slide"
    }
   },
   "source": [
    "# Objects \n",
    "\n",
    "Every item of data (numbers, text characters etc) in a computer program can be described by the term __object__\n",
    "\n",
    "When an object is created, the computer allocates a block of memory to hold the object’s data. "
   ]
  },
  {
   "cell_type": "markdown",
   "id": "154e51ce-3343-4d2a-897b-bf93841b6ac5",
   "metadata": {
    "slideshow": {
     "slide_type": "slide"
    }
   },
   "source": [
    "# Variables \n",
    "\n",
    "A __variable__ is a name that refers (points) to a particular object's location in computer memory\n",
    "\n",
    "By *assigning* an object to a variable, the object's value can be stored and later retrieved and used within a computer program. \n"
   ]
  },
  {
   "cell_type": "markdown",
   "id": "3717ffaf-e6ec-4e71-a6f6-3e677cfe2438",
   "metadata": {
    "slideshow": {
     "slide_type": "fragment"
    }
   },
   "source": [
    "\n",
    "\n",
    "<img src=\"https://github.com/engmaths/EMAT10007_2023/blob/main/weekly_content/img/assignment_b.png?raw=true\" width=\"20%\">\n",
    "</p>\n",
    "\n",
    "__Object Creation:__ <br>An object is stored in memory, with value 4\n",
    "\n",
    "__Assignment:__ <br>The variable name `b` refers to an object stored in computer memory, with value 4\n",
    "\n",
    "\n",
    "Assignment is achieved with a single equals sign (`=`)"
   ]
  },
  {
   "cell_type": "code",
   "execution_count": null,
   "id": "2ba3ca85-8175-4d89-9c0c-51b7ddc7644c",
   "metadata": {},
   "outputs": [],
   "source": [
    "b = 4\n"
   ]
  },
  {
   "cell_type": "markdown",
   "id": "44517f4a-7e52-416d-9a05-682c19731af0",
   "metadata": {
    "slideshow": {
     "slide_type": "slide"
    }
   },
   "source": [
    "The value can be retrieved and used within the computer program\n",
    "\n",
    "The function `print()` displays the value entered between the parentheses `(...)`\n",
    "\n",
    "`b` points to an object with value, 4"
   ]
  },
  {
   "cell_type": "code",
   "execution_count": null,
   "id": "feb5da70-33e7-41aa-a181-94ebc6d418b8",
   "metadata": {},
   "outputs": [],
   "source": [
    "b = 4\n",
    "\n",
    "print(b)\n"
   ]
  },
  {
   "cell_type": "markdown",
   "id": "07a8fa7e-383b-4955-b2d9-49f4ff00079c",
   "metadata": {
    "slideshow": {
     "slide_type": "slide"
    }
   },
   "source": [
    "# Example \n",
    "\n",
    "The variable name `a` refers to an object stored in computer memory, with value 1\n",
    "<br>The variable name `b` refers to an object stored in computer memory, with value 2\n",
    "\n"
   ]
  },
  {
   "cell_type": "markdown",
   "id": "75fb649f-7d7e-415d-b0ec-073bfd66902e",
   "metadata": {
    "slideshow": {
     "slide_type": "-"
    }
   },
   "source": [
    "<img src=\"https://github.com/engmaths/EMAT10007_2023/blob/main/weekly_content/img/assignment_ab.png?raw=true\" width=\"20%\">\n",
    "</p>"
   ]
  },
  {
   "cell_type": "code",
   "execution_count": null,
   "id": "2bc930ab",
   "metadata": {
    "slideshow": {
     "slide_type": "-"
    }
   },
   "outputs": [],
   "source": [
    "a = 1\n",
    "\n",
    "b = 2\n",
    "\n",
    "print(a, b)\n"
   ]
  },
  {
   "cell_type": "code",
   "execution_count": null,
   "id": "f6f6d7ee-ef46-4f8d-b0fc-b2d27f4797eb",
   "metadata": {
    "slideshow": {
     "slide_type": "-"
    }
   },
   "outputs": [],
   "source": [
    "a, b = 1, 2\n",
    "\n",
    "print(a, b)\n"
   ]
  },
  {
   "cell_type": "markdown",
   "id": "e075ca01-9df9-4dc7-a828-953a67dcf7d9",
   "metadata": {
    "slideshow": {
     "slide_type": "slide"
    }
   },
   "source": [
    "# Variable Reassignment \n",
    "\n",
    "We can *reassign* the value of an existing variable  \n",
    "\n",
    "The new value replaces the old value"
   ]
  },
  {
   "cell_type": "code",
   "execution_count": null,
   "id": "e47415c5-f690-4a80-97cd-b740584ea4be",
   "metadata": {},
   "outputs": [],
   "source": [
    "a = 1\n",
    "\n",
    "a = 2\n",
    "\n",
    "print(a)\n"
   ]
  },
  {
   "cell_type": "markdown",
   "id": "b85027c9-412f-4731-92f6-f6679a580a20",
   "metadata": {
    "slideshow": {
     "slide_type": "slide"
    }
   },
   "source": [
    "# Memory sharing\n",
    "When mutiple variables are assigned the same value, all variables point to the same memory location.\n",
    "\n",
    "\n",
    "__Object Creation:__ <br>An object is stored in memory with the value 3.\n",
    "\n",
    "__Assignment:__ <br>Variables a, b, and c are all assigned to refer to the same memory location where the object with value 3 is stored.<br>There's no separate copy of the object for each variable.\n",
    "\n"
   ]
  },
  {
   "cell_type": "markdown",
   "id": "fa703dbf-6330-4dfc-8d36-f0976cffe5f8",
   "metadata": {
    "slideshow": {
     "slide_type": "-"
    }
   },
   "source": [
    "<img src=\"https://github.com/engmaths/EMAT10007_2023/blob/main/weekly_content/img/assignment_abc.png?raw=true\" width=\"50%\">"
   ]
  },
  {
   "cell_type": "code",
   "execution_count": null,
   "id": "06854532-0269-4e27-b96e-3fe9a2d28a33",
   "metadata": {
    "slideshow": {
     "slide_type": "slide"
    }
   },
   "outputs": [],
   "source": [
    "a = 3\n",
    "b = 3\n",
    "c = 3\n"
   ]
  },
  {
   "cell_type": "code",
   "execution_count": null,
   "id": "5c3b4bd4-c689-4258-a4fe-9f68682e7f39",
   "metadata": {},
   "outputs": [],
   "source": [
    "a, b, c = 3, 3, 3\n"
   ]
  },
  {
   "cell_type": "code",
   "execution_count": null,
   "id": "76d89011-4a85-4a80-95e3-4896442fbd59",
   "metadata": {},
   "outputs": [],
   "source": [
    "a = b = c = 3\n",
    "\n",
    "print(a, b, c)\n"
   ]
  },
  {
   "cell_type": "markdown",
   "id": "484db6a9-43e3-47b6-8dce-9c0668125d99",
   "metadata": {
    "slideshow": {
     "slide_type": "slide"
    }
   },
   "source": [
    "If a variable is reassigned a value, it will point to a new memory location"
   ]
  },
  {
   "cell_type": "code",
   "execution_count": null,
   "id": "8f320f92-8534-48aa-9882-cbe33ab43fa3",
   "metadata": {},
   "outputs": [],
   "source": [
    "a = b = c = 3\n",
    "\n",
    "c = 4\n",
    "\n",
    "print(a, b, c)\n"
   ]
  },
  {
   "cell_type": "markdown",
   "id": "482e91b7-888f-495d-b450-ebb667d1edbd",
   "metadata": {
    "slideshow": {
     "slide_type": "slide"
    }
   },
   "source": [
    "# Object Types\n",
    "\n",
    "The term __object__ refers to the:\n",
    "- value \n",
    "- behaviour\n",
    "\n",
    "of an item of data. "
   ]
  },
  {
   "cell_type": "markdown",
   "id": "105a9fd6",
   "metadata": {
    "slideshow": {
     "slide_type": "slide"
    }
   },
   "source": [
    "\n",
    "The type of an object determines what properties it has and how it behaves\n",
    " \n",
    " __Basic Object Types__ \n",
    " <br>(not exhaustive)\n",
    " \n",
    "- `int` __integer__: (e.g. `3`, `88`)\n",
    "- `float` __floating point number__: number with decimal point (e.g. `1.5`, `99.9626`)\n",
    "- `str` __string__: text data enclosed within quotation marks (e.g. `'hello'` or `\"12\"`)\n",
    "- `bool` __Boolean__: `True` or `False` (first letter capitalised)"
   ]
  }
 ],
 "metadata": {
  "celltoolbar": "Slideshow",
  "kernelspec": {
   "display_name": "Python 3 (ipykernel)",
   "language": "python",
   "name": "python3"
  },
  "language_info": {
   "codemirror_mode": {
    "name": "ipython",
    "version": 3
   },
   "file_extension": ".py",
   "mimetype": "text/x-python",
   "name": "python",
   "nbconvert_exporter": "python",
   "pygments_lexer": "ipython3",
   "version": "3.10.9"
  }
 },
 "nbformat": 4,
 "nbformat_minor": 5
}
