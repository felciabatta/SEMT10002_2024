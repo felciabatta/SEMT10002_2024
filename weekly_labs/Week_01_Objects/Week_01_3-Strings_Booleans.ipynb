{
 "cells": [
  {
   "cell_type": "markdown",
   "id": "16c271fd",
   "metadata": {
    "slideshow": {
     "slide_type": "slide"
    }
   },
   "source": [
    "# Computer Programming and Algorithms\n",
    "\n",
    "## Week 1.3: Object Types -  Strings and Booleans\n",
    "\n",
    "<img src=\"https://github.com/engmaths/EMAT10007_2023/blob/main/weekly_content/img/full-colour-logo-UoB.png?raw=true\" width=\"20%\">\n",
    "</p>"
   ]
  },
  {
   "cell_type": "markdown",
   "id": "27ee123f",
   "metadata": {
    "slideshow": {
     "slide_type": "slide"
    }
   },
   "source": [
    "# String (`str`)\n",
    "A collection of characters (alphabetical, numerical, or other e.g. punctuation) enclosed within single (`'...'`) or double (`\"...\"`) quotation marks.  "
   ]
  },
  {
   "cell_type": "code",
   "execution_count": null,
   "id": "a1b53375",
   "metadata": {
    "slideshow": {
     "slide_type": "-"
    }
   },
   "outputs": [],
   "source": [
    "c = \"10\"\n",
    "d = 'python 3'\n",
    "e = 'hello world!'\n",
    "\n",
    "print(type(c))\n",
    "print(type(d))\n",
    "print(type(e))\n"
   ]
  },
  {
   "cell_type": "markdown",
   "id": "70a185c9",
   "metadata": {
    "slideshow": {
     "slide_type": "slide"
    }
   },
   "source": [
    "# String value storage \n",
    "\n",
    "Strings are stored on a computer as a series of bytes (8 bit binary number). \n",
    "\n",
    "An *encoding* system is a mapping between each character (e.g. `a`) and a unique binary value, used to represent the character. \n",
    "\n",
    "Typically, 1 byte per character is used. "
   ]
  },
  {
   "cell_type": "markdown",
   "id": "fc04d9b8",
   "metadata": {
    "slideshow": {
     "slide_type": "slide"
    }
   },
   "source": [
    "Unlike numerical data, `strings` are **subscriptable**\n",
    "\n",
    "This means that each character of the string has an **index** that can be used to access it \n",
    "\n",
    "Characters are **indexed** with integer values, starting from 0\n",
    "\n",
    "We can return the Nth character of a string with `string_name[N]`"
   ]
  },
  {
   "cell_type": "markdown",
   "id": "05630558",
   "metadata": {
    "slideshow": {
     "slide_type": "slide"
    }
   },
   "source": [
    "Print the first letter of x\n"
   ]
  },
  {
   "cell_type": "code",
   "execution_count": null,
   "id": "6a76bc1f",
   "metadata": {},
   "outputs": [],
   "source": [
    "x = 'Hello'\n",
    "\n",
    "print(x[0])\n"
   ]
  },
  {
   "cell_type": "markdown",
   "id": "8b5d814f",
   "metadata": {
    "slideshow": {
     "slide_type": "slide"
    }
   },
   "source": [
    "Print the last letter of x\n"
   ]
  },
  {
   "cell_type": "code",
   "execution_count": null,
   "id": "2b89d945",
   "metadata": {
    "slideshow": {
     "slide_type": "-"
    }
   },
   "outputs": [],
   "source": [
    "print(x[4])\n"
   ]
  },
  {
   "cell_type": "code",
   "execution_count": null,
   "id": "8cc2c788",
   "metadata": {
    "slideshow": {
     "slide_type": "fragment"
    }
   },
   "outputs": [],
   "source": [
    "print(x[-1])\n"
   ]
  },
  {
   "cell_type": "markdown",
   "id": "2af63dac",
   "metadata": {
    "slideshow": {
     "slide_type": "slide"
    }
   },
   "source": [
    "We can return the characters between element N and element M with `string_name[N:M]`\n",
    "\n",
    "The starting value `N` is included in the range. \n",
    "\n",
    "The stop value `M` is excluded from the range. "
   ]
  },
  {
   "cell_type": "markdown",
   "id": "12ba6d14",
   "metadata": {
    "slideshow": {
     "slide_type": "slide"
    }
   },
   "source": [
    "\n",
    "Print the first 3 letters of x"
   ]
  },
  {
   "cell_type": "code",
   "execution_count": null,
   "id": "10f3168a",
   "metadata": {
    "slideshow": {
     "slide_type": "-"
    }
   },
   "outputs": [],
   "source": [
    "x = 'Hello'\n",
    "print(x[0:3])\n",
    "print(x[:3])\n"
   ]
  },
  {
   "cell_type": "markdown",
   "id": "0118975e",
   "metadata": {
    "slideshow": {
     "slide_type": "fragment"
    }
   },
   "source": [
    "\n",
    "Print the last 3 letters of x"
   ]
  },
  {
   "cell_type": "code",
   "execution_count": null,
   "id": "fc497c48",
   "metadata": {
    "slideshow": {
     "slide_type": "-"
    }
   },
   "outputs": [],
   "source": [
    "print(x[2:5])\n",
    "print(x[-3:])\n"
   ]
  },
  {
   "cell_type": "markdown",
   "id": "8e86403b",
   "metadata": {
    "slideshow": {
     "slide_type": "slide"
    }
   },
   "source": [
    "The term __object__ refers to the:\n",
    "- value \n",
    "- behaviour\n",
    "\n",
    "of an item of data. \n",
    "\n",
    "The type of an object determines what properties it has and how it behaves"
   ]
  },
  {
   "cell_type": "markdown",
   "id": "baf72c5d-d6ab-40a9-9b11-947db3c63fd2",
   "metadata": {
    "slideshow": {
     "slide_type": "slide"
    }
   },
   "source": [
    "Each object type has a specific set of operations that can be used with it.\n",
    "    \n",
    "These are known as **methods**\n",
    "\n",
    "The method is used on a variable by placing the method name after the variable name, seperated by a dot/period/point `.`"
   ]
  },
  {
   "cell_type": "markdown",
   "id": "f1552fad-fce4-4d73-b5ae-8e6ffc44aa18",
   "metadata": {
    "slideshow": {
     "slide_type": "fragment"
    }
   },
   "source": [
    "Examples of methods for string objects:\n",
    " - `upper` (converts string to upper case letters)\n",
    " - `find` (finds index of first ocurance of a specific character)"
   ]
  },
  {
   "cell_type": "code",
   "execution_count": null,
   "id": "c828c8a6",
   "metadata": {},
   "outputs": [],
   "source": [
    "x = 'hello'\n",
    "y = x.upper()\n",
    "print(y)\n"
   ]
  },
  {
   "cell_type": "code",
   "execution_count": null,
   "id": "dda72fac",
   "metadata": {
    "scrolled": true
   },
   "outputs": [],
   "source": [
    "z = x.find('l')\n",
    "print(z)\n"
   ]
  },
  {
   "cell_type": "markdown",
   "id": "7514af93-27b5-4ae5-af46-7c4e28efcdc8",
   "metadata": {
    "slideshow": {
     "slide_type": "slide"
    }
   },
   "source": [
    "A full list of string methods can be found here:\n",
    "https://www.w3schools.com/python/python_ref_string.asp"
   ]
  },
  {
   "cell_type": "markdown",
   "id": "cf40bd53",
   "metadata": {
    "slideshow": {
     "slide_type": "slide"
    }
   },
   "source": [
    "# Boolean (`bool`)\n",
    "Binary True or False values "
   ]
  },
  {
   "cell_type": "code",
   "execution_count": null,
   "id": "9ffc41b1",
   "metadata": {
    "slideshow": {
     "slide_type": "-"
    }
   },
   "outputs": [],
   "source": [
    "f = True\n",
    "g = False\n",
    "\n",
    "print(type(f))\n",
    "print(type(g))\n"
   ]
  },
  {
   "cell_type": "markdown",
   "id": "34c34c2d",
   "metadata": {
    "slideshow": {
     "slide_type": "slide"
    }
   },
   "source": [
    "# Boolean value storage \n",
    "\n",
    "Boolean `True` and `False` values are stored in computer memory as integers `1` and `0` "
   ]
  },
  {
   "cell_type": "markdown",
   "id": "2e0352ad",
   "metadata": {
    "slideshow": {
     "slide_type": "slide"
    }
   },
   "source": [
    "### Need to see some more examples? \n",
    "https://www.w3schools.com/python/python_variables.asp\n",
    "<br>https://www.geeksforgeeks.org/python-variables/\n",
    "\n",
    "### Want to take a quiz?\n",
    "https://realpython.com/quizzes/python-variables/\n",
    "<br>https://pynative.com/python-variables-and-data-types-quiz/\n",
    "\n",
    "### Want some more advanced information?\n",
    "**Objects and Types** \n",
    "<br>https://realpython.com/python-data-types/\n",
    "<br>https://realpython.com/python-variables/\n",
    "<br>https://pynative.com/python-variables/\n",
    "\n",
    "**Floating point numbers** \n",
    "<br>https://bteccomputing.co.uk/use-of-binary-to-represent-negative-and-floating-point-numbers/\n",
    "<br>https://www.youtube.com/watch?v=L8OYx1I8qNg"
   ]
  }
 ],
 "metadata": {
  "celltoolbar": "Slideshow",
  "kernelspec": {
   "display_name": "Python 3 (ipykernel)",
   "language": "python",
   "name": "python3"
  },
  "language_info": {
   "codemirror_mode": {
    "name": "ipython",
    "version": 3
   },
   "file_extension": ".py",
   "mimetype": "text/x-python",
   "name": "python",
   "nbconvert_exporter": "python",
   "pygments_lexer": "ipython3",
   "version": "3.10.9"
  }
 },
 "nbformat": 4,
 "nbformat_minor": 5
}
