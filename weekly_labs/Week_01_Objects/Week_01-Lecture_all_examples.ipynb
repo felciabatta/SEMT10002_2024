{
 "cells": [
  {
   "cell_type": "markdown",
   "id": "3122cada",
   "metadata": {
    "slideshow": {
     "slide_type": "slide"
    }
   },
   "source": [
    "# Introduction to Computer Programming\n",
    "\n",
    "## Objects, Variables and Operators \n",
    "\n",
    "\n",
    "<img src=\"https://github.com/engmaths/EMAT10007_2023/blob/main/weekly_content/img/full-colour-logo-UoB.png?raw=true\" width=\"20%\">\n",
    "</p>"
   ]
  },
  {
   "cell_type": "markdown",
   "id": "f32e12cb",
   "metadata": {
    "slideshow": {
     "slide_type": "slide"
    }
   },
   "source": [
    "# Welcome!\n",
    "\n",
    "### Terms of engagement \n",
    "\n",
    "- Be respectful of each other (be aware there are different levels of experience in the room)\n",
    "- Be helpful to each other \n",
    "(explaining a concept to someone else is a great way to reinforce your own understanding)\n",
    "- Watch the videos before coming to the in-person lecture each week\n",
    "- Ask questions  \n",
    "- Attend \n",
    "    - in-person lecture\n",
    "    - lab\n",
    "    - lab support session \n",
    "- Sit in the same seat to help the TAs monitor your progress"
   ]
  },
  {
   "cell_type": "markdown",
   "id": "23d8408f",
   "metadata": {
    "slideshow": {
     "slide_type": "slide"
    }
   },
   "source": [
    "### You may want to open the video slides now in Google Colab using the link on Blackboard\n",
    "\n",
    "Useful for:\n",
    "- Q&A\n",
    "- group exercises \n"
   ]
  },
  {
   "cell_type": "markdown",
   "id": "5fee5f09",
   "metadata": {
    "slideshow": {
     "slide_type": "slide"
    }
   },
   "source": [
    "# Video Q&A\n",
    "\n",
    "### Make use of the discussion board\n",
    "\n",
    "Add any questions about the pre-watch/pre-read material to the Course Discussion Board. \n",
    "\n",
    "Blackboard page >> Course tools >> Discussion Board >> EMAT10007_2023_TB-1 >> Ask a question\n",
    "\n",
    "We will answer questions at beginning of the next lecture or by posting a response. \n",
    "\n",
    "The deadline for posting a question to recieve a response by, or in, the next lecture is the day before the lecture (Monday), 9am.  \n"
   ]
  },
  {
   "cell_type": "markdown",
   "id": "31c4cdea",
   "metadata": {
    "slideshow": {
     "slide_type": "slide"
    }
   },
   "source": [
    "# Objects \n",
    " - Every item of data (numbers, text characters etc) in a Python program can be described by the term __object__\n",
    " - The type of an object determines what properties it has and how it can be used in the Python program"
   ]
  },
  {
   "cell_type": "code",
   "execution_count": null,
   "id": "1e9bfdad",
   "metadata": {},
   "outputs": [],
   "source": [
    "30\n",
    "'Python'\n",
    "1.2\n"
   ]
  },
  {
   "cell_type": "markdown",
   "id": "5ed5ec0c",
   "metadata": {
    "slideshow": {
     "slide_type": "slide"
    }
   },
   "source": [
    "# Variables and Variable Assignment\n",
    " - A variable is a name that refers or points to a particular object\n",
    " - By *assigning* an object to a variable, we allow it to be manipulated within the program, using the variable name\n",
    "- To create a variable, we simply assign it a value\n",
    "- Assignment is achieved with a single equals sign (`=`)\n",
    "\n",
    "<img src=\"https://github.com/engmaths/EMAT10007_2023/blob/main/weekly_content/img/assignment_b.png?raw=true\" width=\"20%\">\n",
    "</p>"
   ]
  },
  {
   "cell_type": "code",
   "execution_count": null,
   "id": "3758c6fc",
   "metadata": {
    "scrolled": true
   },
   "outputs": [],
   "source": [
    "b = 4\n",
    "\n",
    "print(b)\n"
   ]
  },
  {
   "cell_type": "markdown",
   "id": "5310d9cb",
   "metadata": {},
   "source": [
    "*The Python function `print()` displays whatever is between the parentheses `(...)`*"
   ]
  },
  {
   "cell_type": "markdown",
   "id": "4ff42900",
   "metadata": {
    "slideshow": {
     "slide_type": "slide"
    }
   },
   "source": [
    "# Type Conversion \n",
    "The value assigned a variable can be specified or converted by *casting* \n",
    "\n",
    "**Constructor functions** are used for casting. \n",
    "<br>The function name represents the desired data type.\n",
    "<br>The variable to be cast is included between the parentheses `()`\n",
    "\n",
    "\n",
    "\n",
    "\n"
   ]
  },
  {
   "cell_type": "markdown",
   "id": "2670463b",
   "metadata": {
    "slideshow": {
     "slide_type": "fragment"
    }
   },
   "source": [
    "***\n",
    "- `int()` - constructs an integer (e.g. from a float (by removing all decimals), or a string (the string must represent a whole number)\n",
    "- `float()` - constructs a float (e.g. from an integer, or a string (the string must represent a float or an integer)\n",
    "- `str()` - constructs a string (e.g. from an integer, float or Boolean)\n",
    "- `bool()` - constructs a Boolean (e.g. from an integer, float or string)"
   ]
  },
  {
   "cell_type": "markdown",
   "id": "1ff7fd07",
   "metadata": {
    "slideshow": {
     "slide_type": "fragment"
    }
   },
   "source": [
    "***\n",
    "*A full list of possible type conversions can be found under 'Type Conversion' <br>(https://realpython.com/python-data-types/#type-conversion)*"
   ]
  },
  {
   "cell_type": "markdown",
   "id": "5b8bd015",
   "metadata": {
    "slideshow": {
     "slide_type": "slide"
    }
   },
   "source": [
    "# Example\n",
    "Convert a float to a) integer b) string"
   ]
  },
  {
   "cell_type": "code",
   "execution_count": null,
   "id": "51d5b1d8",
   "metadata": {},
   "outputs": [],
   "source": [
    "a = 1.2\n",
    "\n",
    "b = int(a)\n",
    "print(b)\n",
    "\n",
    "c = str(a)\n",
    "print(c)\n"
   ]
  },
  {
   "cell_type": "markdown",
   "id": "076a783c",
   "metadata": {
    "slideshow": {
     "slide_type": "slide"
    }
   },
   "source": [
    "# Example\n",
    "Convert a string to a) integer b) float"
   ]
  },
  {
   "cell_type": "code",
   "execution_count": null,
   "id": "422bd190",
   "metadata": {},
   "outputs": [],
   "source": [
    "a = '1'    # Note float string e.g. 1.2 can't convert to int\n",
    "b = int(a)\n",
    "print(b)\n",
    "\n",
    "\n",
    "a = '1.2'\n",
    "b = float(a)\n",
    "print(b)\n"
   ]
  },
  {
   "cell_type": "markdown",
   "id": "5a1591d9",
   "metadata": {
    "slideshow": {
     "slide_type": "slide"
    }
   },
   "source": [
    "# Example\n",
    "Convert from an integer to a) float b) string"
   ]
  },
  {
   "cell_type": "code",
   "execution_count": null,
   "id": "07de5290",
   "metadata": {},
   "outputs": [],
   "source": [
    "a = 1\n",
    "\n",
    "b = float(a)\n",
    "print(b)\n",
    "\n",
    "c = str(a)\n",
    "print(c)\n"
   ]
  },
  {
   "cell_type": "markdown",
   "id": "8248978e",
   "metadata": {
    "slideshow": {
     "slide_type": "slide"
    }
   },
   "source": [
    "# Example\n",
    "Convert a) integer b) float c) string, to Boolean"
   ]
  },
  {
   "cell_type": "code",
   "execution_count": null,
   "id": "fd91c60c",
   "metadata": {
    "scrolled": true
   },
   "outputs": [],
   "source": [
    "a = 1\n",
    "b = 1.0\n",
    "c = '1'\n",
    "\n",
    "d = bool(a)\n",
    "\n",
    "print(d)\n"
   ]
  },
  {
   "cell_type": "markdown",
   "id": "a0db958a",
   "metadata": {
    "slideshow": {
     "slide_type": "slide"
    }
   },
   "source": [
    "# Boolean representations of other object types\n",
    "\n",
    "Outcomes when casting other object types as Boolean values:\n",
    "\n",
    "| Object type    | `True`           | `False`                |  \n",
    "| :--------------- | :--------------- | :---------------       |\n",
    "| `int`            | non-zero         |zero (`0`)              | \n",
    "| `float`          | non-zero         |zero (`0.0`)            |\n",
    "| `string`         | non-empty string |empty string (`''`)     | \n",
    "\n",
    " "
   ]
  },
  {
   "cell_type": "markdown",
   "id": "9277923e",
   "metadata": {
    "slideshow": {
     "slide_type": "slide"
    }
   },
   "source": [
    "\n",
    "<a id='OperatorPrecedence'></a>\n",
    "# Operators (in order of precedence)\n",
    "1. Parentheses\n",
    "1. Arithmetic operators (top to bottom)<br>\n",
    "   `**`                  &nbsp; &nbsp; &nbsp; &nbsp; &nbsp; &nbsp; &nbsp; &nbsp; &nbsp;&nbsp;&nbsp;&nbsp; &nbsp; &nbsp; Exponent <br>\n",
    "   `/`, `*`, `//`, `%`  &nbsp; &nbsp;&nbsp; Division, multiplication, floor division, modulo (evaluated left to right)<br>\n",
    "   `+`, `-`             &nbsp; &nbsp; &nbsp; &nbsp; &nbsp; &nbsp;&nbsp;&nbsp; &nbsp;&nbsp;&nbsp; &nbsp; &nbsp; Addition, subtraction (evaluated left to right)\n",
    "1. Comparison operators: `<`, `<=`,  `>`,  `>=`, `!=`, `==`(evaluated left to right)\n",
    "1. Assignment operators `=`, `/=`, `*=`, `//=`, `%=`, `+=`, `-=` .... \n",
    "1. Identity operators `is`, `is not`\n",
    "1. Logical `not`\n",
    "1. Logical `and`\n",
    "1. Logical `or` "
   ]
  },
  {
   "cell_type": "markdown",
   "id": "890ace3f",
   "metadata": {
    "slideshow": {
     "slide_type": "slide"
    }
   },
   "source": [
    "# Example: Arithmetic Operators\n",
    "Find the area, $A=28.278$ m$^2$, of a circle with \n",
    "\n",
    "$A = \\pi r ^ 2$ <br>\n",
    "\n",
    "where:\n",
    "<br>$\\pi = 3.142$\n",
    "<br>radius, $r$ = 3 metres\n",
    "\n",
    "<img src=\"https://github.com/engmaths/EMAT10007_2023/blob/main/weekly_content/img/circle_radius.png?raw=true\" width=\"20%\">\n",
    "</p>\n",
    "\n"
   ]
  },
  {
   "cell_type": "code",
   "execution_count": null,
   "id": "1e6dc637",
   "metadata": {},
   "outputs": [],
   "source": [
    "pi = 3.142\n",
    "r = 3\n",
    "\n",
    "# Calculate the area of the circle\n",
    "A = pi * r**2\n",
    "\n",
    "print(A, 'm2')\n"
   ]
  },
  {
   "cell_type": "markdown",
   "id": "f531635f",
   "metadata": {
    "slideshow": {
     "slide_type": "slide"
    }
   },
   "source": [
    "# Example: Arithmetic Operators \n",
    "<span style=\"color:blue\">Work as a table to write out the following operation using Python arithmetic operators</span>\n",
    "\n",
    "Find the volume, $V=41.89\\dot{3}$ cm $^3$, of a cone \n",
    "\n",
    "$V = \\frac{Ah}{3}$\n",
    "\n",
    "where:\n",
    "<br> $\\pi = 3.142$\n",
    "<br> height, $h$ = 10 cm\n",
    "<br> base radius, $r$ = 2 cm\n",
    "<br> base area, $A= \\pi r ^ 2$\n",
    "\n",
    "<img src=\"https://github.com/engmaths/EMAT10007_2023/blob/main/weekly_content/img/cone.png?raw=true\" width=\"20%\">\n",
    "</p>"
   ]
  },
  {
   "cell_type": "code",
   "execution_count": null,
   "id": "74582a85",
   "metadata": {
    "slideshow": {
     "slide_type": "slide"
    }
   },
   "outputs": [],
   "source": [
    "pi = 3.142\n",
    "h = 10\n",
    "r = 2\n",
    "\n",
    "# Calculate the area of the circle\n",
    "A = pi * r**2\n",
    "\n",
    "# Calculate the volume of the cone\n",
    "V = A*h/3\n",
    "print(V, 'cm3')\n",
    "\n",
    "V = pi * r**2 * h /3\n",
    "print(V, 'cm3')\n"
   ]
  },
  {
   "cell_type": "markdown",
   "id": "f3e0feb8",
   "metadata": {
    "slideshow": {
     "slide_type": "fragment"
    }
   },
   "source": [
    "What does the output look like if `h` and `r` are in units m, and the output is in units m$^3$?\n",
    "```python\n",
    "h = 0.1\n",
    "r = 0.02\n",
    "```\n"
   ]
  },
  {
   "cell_type": "markdown",
   "id": "a5b53459",
   "metadata": {
    "slideshow": {
     "slide_type": "slide"
    }
   },
   "source": [
    "__Scientific notation__\n",
    "\n",
    "The `e` and `E` characters can also be used for scientific notation \n",
    "\n",
    "$n$ `e` $m$ represents $n \\times 10^m$"
   ]
  },
  {
   "cell_type": "code",
   "execution_count": null,
   "id": "b7265180",
   "metadata": {},
   "outputs": [],
   "source": [
    "h = 0.0000000001\n",
    "h = 1 * 10**-10\n",
    "h = 1e-10\n",
    "h = 1E-10\n",
    "print(h)\n"
   ]
  },
  {
   "cell_type": "markdown",
   "id": "9ebbd5f0",
   "metadata": {
    "slideshow": {
     "slide_type": "slide"
    }
   },
   "source": [
    "# Comments \n",
    "A line of code that begins with the hash `#` symbol is a __comment__.\n",
    "\n",
    "Comments are used for two things:\n",
    "\n",
    "1. A line in the code that we don't want to run. \n",
    "\n",
    "1. A human-readable annotation in the code. \n",
    "\n",
    "***\n",
    "```python\n",
    "r = 3       # radius\n",
    "pi = 3.142 \n",
    "\n",
    "# Calculate the area of the circle\n",
    "A = pi * r**2\n",
    "```"
   ]
  },
  {
   "cell_type": "markdown",
   "id": "96c66e8d",
   "metadata": {
    "slideshow": {
     "slide_type": "slide"
    }
   },
   "source": [
    "Let's go back an add comments to the previous examples "
   ]
  },
  {
   "cell_type": "markdown",
   "id": "0bbcb7d3",
   "metadata": {
    "slideshow": {
     "slide_type": "slide"
    }
   },
   "source": [
    "# Example: Arithmetic Operators\n",
    "\n",
    "Create a variable `a` and assign it a `string` value with two or more characters. \n",
    "\n",
    "Create a variable `b` and assign it a `string` value with three or more characters. \n",
    "\n",
    "Use an arithmetic operator to connect the **first two** letters of `a` and the **last three** letters of `b` to make a new string. "
   ]
  },
  {
   "cell_type": "code",
   "execution_count": null,
   "id": "b43526a6",
   "metadata": {},
   "outputs": [],
   "source": [
    "a = 'hello'\n",
    "\n",
    "b = 'world'\n",
    "\n",
    "c = 'hello' + 'world'\n",
    "\n",
    "print(c)\n"
   ]
  },
  {
   "cell_type": "markdown",
   "id": "0719d273",
   "metadata": {
    "slideshow": {
     "slide_type": "slide"
    }
   },
   "source": [
    "# Example: Comparison Operators\n",
    "Check if the `temperature` is lower than the `threshold`\n",
    "\n",
    "```python\n",
    "temperature = 30\n",
    "threshold = 25\n",
    "```"
   ]
  },
  {
   "cell_type": "code",
   "execution_count": null,
   "id": "b5d18a90",
   "metadata": {},
   "outputs": [],
   "source": [
    "temperature = 30\n",
    "threshold = 25\n",
    "\n",
    "print(temperature < threshold)\n"
   ]
  },
  {
   "cell_type": "markdown",
   "id": "971025fc",
   "metadata": {
    "slideshow": {
     "slide_type": "slide"
    }
   },
   "source": [
    "# Example: Comparison Operators\n",
    "\n",
    "<span style=\"color:blue\">Work as a table to write out the following operation using Python comparison operators</span>\n",
    "\n",
    "\n",
    "Check if the student score is greater than or equal to the pass mark, 40\n",
    "\n",
    "```python\n",
    "score = 30\n",
    "pass_mark = 40\n",
    "```\n",
    "\n",
    "\n"
   ]
  },
  {
   "cell_type": "code",
   "execution_count": null,
   "id": "2a5dbe66",
   "metadata": {},
   "outputs": [],
   "source": [
    "score = 30\n",
    "pass_mark = 40\n",
    "\n",
    "print(score >= pass_mark)\n"
   ]
  },
  {
   "cell_type": "markdown",
   "id": "e956aa7b",
   "metadata": {
    "slideshow": {
     "slide_type": "slide"
    }
   },
   "source": [
    "# Example: Comparison Operators\n",
    "<span style=\"color:blue\">Work as a table to write out the following operation using Python comparison operators</span>\n",
    "\n",
    "Check if the `student_name` matches the value of `name`\n",
    "\n",
    "\n",
    "```python\n",
    "student_name = 'Tim'\n",
    "name = 'tim'\n",
    "```"
   ]
  },
  {
   "cell_type": "code",
   "execution_count": null,
   "id": "cc787abc",
   "metadata": {},
   "outputs": [],
   "source": [
    "student_name = 'Tim'\n",
    "name = 'tim'\n",
    "\n",
    "print(student_name == addressed_to)\n"
   ]
  },
  {
   "cell_type": "markdown",
   "id": "72f7ae86",
   "metadata": {
    "slideshow": {
     "slide_type": "slide"
    }
   },
   "source": [
    "# Floating point error and comparison operators\n",
    "\n",
    "Care must be taken when comparing floating point values. \n",
    "\n"
   ]
  },
  {
   "cell_type": "code",
   "execution_count": null,
   "id": "b77c71dd",
   "metadata": {},
   "outputs": [],
   "source": [
    "1.2 - 1 == 0.2\n"
   ]
  },
  {
   "cell_type": "markdown",
   "id": "51126e4c",
   "metadata": {
    "slideshow": {
     "slide_type": "fragment"
    }
   },
   "source": [
    "\n",
    "\n",
    "<span style=\"color:blue\">Why does the expression evaluate to `False`?</span>"
   ]
  },
  {
   "cell_type": "markdown",
   "id": "f301070d",
   "metadata": {
    "slideshow": {
     "slide_type": "slide"
    }
   },
   "source": [
    "This is due to error in floating point number storage.\n",
    "\n",
    "When we compute `1.2 - 1`, any error in the stored values of `1.2` and `1` compounds.\n",
    "\n",
    "This compounded error may be different from when `0.2` is defined explicitly. "
   ]
  },
  {
   "cell_type": "code",
   "execution_count": null,
   "id": "393b0f3e",
   "metadata": {
    "slideshow": {
     "slide_type": "fragment"
    }
   },
   "outputs": [],
   "source": [
    "format(0.2, '.17f')\n"
   ]
  },
  {
   "cell_type": "code",
   "execution_count": null,
   "id": "82fbe341",
   "metadata": {
    "slideshow": {
     "slide_type": "fragment"
    }
   },
   "outputs": [],
   "source": [
    "format(1.2, '.17f')\n"
   ]
  },
  {
   "cell_type": "code",
   "execution_count": null,
   "id": "feb82983",
   "metadata": {},
   "outputs": [],
   "source": [
    "format(1, '.17f')\n"
   ]
  },
  {
   "cell_type": "code",
   "execution_count": null,
   "id": "cad9c1d0",
   "metadata": {
    "slideshow": {
     "slide_type": "-"
    }
   },
   "outputs": [],
   "source": [
    "format(1.2 - 1, '.17f')\n"
   ]
  },
  {
   "cell_type": "code",
   "execution_count": null,
   "id": "c99e8583",
   "metadata": {
    "slideshow": {
     "slide_type": "fragment"
    }
   },
   "outputs": [],
   "source": [
    "a = 1.2 - 1\n",
    "b = 0.2\n",
    "a < b\n"
   ]
  },
  {
   "cell_type": "markdown",
   "id": "1efcc9eb",
   "metadata": {
    "slideshow": {
     "slide_type": "slide"
    }
   },
   "source": [
    "So while we can use comparison operators on **explicitly defined** values..."
   ]
  },
  {
   "cell_type": "code",
   "execution_count": null,
   "id": "799bebd0",
   "metadata": {},
   "outputs": [],
   "source": [
    "a = 0.2\n",
    "b = 0.2\n",
    "a == b\n"
   ]
  },
  {
   "cell_type": "markdown",
   "id": "fae9755b",
   "metadata": {
    "slideshow": {
     "slide_type": "fragment"
    }
   },
   "source": [
    "...we need to take extra care when comparing floating point values that are the result of **arithmetic operations**"
   ]
  },
  {
   "cell_type": "code",
   "execution_count": null,
   "id": "32c11586",
   "metadata": {},
   "outputs": [],
   "source": [
    "a = 3.0 - 2.8\n",
    "b = 1.2 - 1\n",
    "a == b\n"
   ]
  },
  {
   "cell_type": "markdown",
   "id": "d6793a9c",
   "metadata": {
    "slideshow": {
     "slide_type": "slide"
    }
   },
   "source": [
    "# Comparing floating point values\n",
    "To test if actual value of two floating-point values are equal we can test if the difference between the two numbers is within some tolerance. \n",
    "\n",
    "*The Python function `abs()` returns absolute value of the value within the parentheses*"
   ]
  },
  {
   "cell_type": "code",
   "execution_count": null,
   "id": "e9f7f74a",
   "metadata": {
    "slideshow": {
     "slide_type": "fragment"
    }
   },
   "outputs": [],
   "source": [
    "tolerance = 1e-10\n",
    "print(tolerance)\n"
   ]
  },
  {
   "cell_type": "code",
   "execution_count": null,
   "id": "982ce87d",
   "metadata": {
    "slideshow": {
     "slide_type": "fragment"
    }
   },
   "outputs": [],
   "source": [
    "a = 1.2 - 1\n",
    "b = 0.2\n",
    "\n",
    "abs(a - b) < tolerance # Equivalent to a == b\n"
   ]
  },
  {
   "cell_type": "markdown",
   "id": "93f1807f",
   "metadata": {
    "slideshow": {
     "slide_type": "slide"
    }
   },
   "source": [
    "|Standard comparison          |Floating point comparison                          |\n",
    "|:----                        |:----                                              |\n",
    "|` x == y `                   | `abs(x - y) < tolerance`                          |\n",
    "|` x != y `                   | `abs(x - y) > tolerance `                         |\n",
    "|` x > y  `                   |` x - y > tolerance`                               | \n",
    "|` x < y  `                   | `x - y < -tolerance`                               | \n",
    "|` x >= y `                   | `abs(x - y) < tolerance  or  x - y > tolerance `  |\n",
    "|` x <= y `                   | `abs(x - y) < tolerance  or  x - y < -tolerance `  |"
   ]
  },
  {
   "cell_type": "markdown",
   "id": "f660411c",
   "metadata": {
    "slideshow": {
     "slide_type": "slide"
    }
   },
   "source": [
    "Alternativea approach: \n",
    "\n",
    "Select a degree of accuracy within which to compare the numbers. \n",
    "\n",
    "Round the numbers to the required degree of accuracy. \n",
    "\n",
    "*The Python function `round()` rounds a number to a specified number of decimal places.* "
   ]
  },
  {
   "cell_type": "code",
   "execution_count": null,
   "id": "8262e953",
   "metadata": {},
   "outputs": [],
   "source": [
    "dp = 10\n",
    "\n",
    "a = 1.2 - 1\n",
    "b = 0.2\n",
    "\n",
    "a = round(a, dp)\n",
    "b = round(b, dp)\n",
    "\n",
    "print(a < b)\n",
    "print(a == b)\n"
   ]
  },
  {
   "cell_type": "markdown",
   "id": "fe186938",
   "metadata": {
    "slideshow": {
     "slide_type": "skip"
    }
   },
   "source": [
    "*The Python function `round()` rounds the first comma-seperated value within the parentheses to the number of decimal places represented by the second comma-seperated value within the parentheses*"
   ]
  },
  {
   "cell_type": "markdown",
   "id": "bb9e3838",
   "metadata": {
    "slideshow": {
     "slide_type": "slide"
    }
   },
   "source": [
    "# Logical operators"
   ]
  },
  {
   "cell_type": "markdown",
   "id": "0260b913",
   "metadata": {
    "slideshow": {
     "slide_type": "fragment"
    }
   },
   "source": [
    "\n",
    "\n",
    "```python \n",
    "x and y\n",
    "```\n",
    "\n",
    "__Process:__<br>\n",
    "Return `x` if the **Boolean** value of `x` is `False`; otherwise, return `y`.\n",
    "\n",
    "**Output  if `x` and `y` are both Booleans:**\n",
    "<br> `True` if `x` **and** `y` are both `True`.\n",
    "<br> Otherwise `False`."
   ]
  },
  {
   "cell_type": "markdown",
   "id": "99c8c9a5",
   "metadata": {
    "slideshow": {
     "slide_type": "fragment"
    }
   },
   "source": [
    "***\n",
    "```python \n",
    "x or y\n",
    "``` \n",
    "\n",
    "__Process:__<br>\n",
    "Return`x` if the **Boolean** value of `x` is `True`; otherwise, return `y`.\n",
    "\n",
    "__Output if `x` and `y` are both Booleans:__\n",
    "<br> `True` if at least one of `x`, `y` has the value `True`.\n",
    "<br> Otherwise `False`."
   ]
  },
  {
   "cell_type": "markdown",
   "id": "cb36d948",
   "metadata": {
    "slideshow": {
     "slide_type": "slide"
    }
   },
   "source": [
    "# Example: Logical Operators\n",
    "Test if `a` is equal to `b` __and__ `c` is equal to `d`\n",
    "\n",
    "```python\n",
    "a = 1\n",
    "b = 2\n",
    "c = 1.5\n",
    "d = 1.5\n",
    "```"
   ]
  },
  {
   "cell_type": "code",
   "execution_count": null,
   "id": "5c863cf7",
   "metadata": {},
   "outputs": [],
   "source": [
    "a = 1\n",
    "b = 2\n",
    "c = 1.5\n",
    "d = 1.5\n",
    "\n",
    "a == b and c == d\n"
   ]
  },
  {
   "cell_type": "markdown",
   "id": "333afd74",
   "metadata": {
    "slideshow": {
     "slide_type": "slide"
    }
   },
   "source": [
    "# Example: Logical Operators\n",
    "\n",
    "Test if comparisons `e` and `f` are `True` but `g` is `False`  \n",
    "\n",
    "```python\n",
    "e = 1 < 2\n",
    "f = 2 == 2.0\n",
    "g = 3 >= 1\n",
    "```"
   ]
  },
  {
   "cell_type": "code",
   "execution_count": null,
   "id": "f2844c16",
   "metadata": {},
   "outputs": [],
   "source": [
    "e = 1 < 2\n",
    "f = 2 == 2.0\n",
    "g = 3 >= 1\n",
    "\n",
    "e and f and not g\n"
   ]
  },
  {
   "cell_type": "markdown",
   "id": "8c9625d8",
   "metadata": {
    "slideshow": {
     "slide_type": "slide"
    }
   },
   "source": [
    "# Example: Logical Operators\n",
    "\n",
    "<span style=\"color:blue\">Work as a table to write out the following operation using Python logical operators</span>\n",
    "\n",
    "Test if comparisons `h`, `i` and `j` are all `True` \n",
    "\n",
    "```python\n",
    "h = 1 < 2\n",
    "i = 2 == 2.0\n",
    "j = 3 >= 1\n",
    "```"
   ]
  },
  {
   "cell_type": "code",
   "execution_count": null,
   "id": "92dbe890",
   "metadata": {},
   "outputs": [],
   "source": [
    "h = 1 < 2\n",
    "i = 2 == 2.0\n",
    "j = 3 >= 1\n",
    "\n",
    "h and j and i\n"
   ]
  },
  {
   "cell_type": "markdown",
   "id": "8d1a7a89",
   "metadata": {
    "slideshow": {
     "slide_type": "slide"
    }
   },
   "source": [
    "# Example: Logical Operators\n",
    "Check if `k` is less than `n` __or__ `m` is less than `n`\n",
    "\n",
    "```python\n",
    "k = 1\n",
    "m = 2\n",
    "n = 1.5\n",
    "```"
   ]
  },
  {
   "cell_type": "code",
   "execution_count": null,
   "id": "7d7f3be2",
   "metadata": {},
   "outputs": [],
   "source": [
    "k = 1\n",
    "m = 2\n",
    "n = 1.5\n",
    "\n",
    "k < n or m < n\n"
   ]
  },
  {
   "cell_type": "markdown",
   "id": "3facc9ec",
   "metadata": {
    "slideshow": {
     "slide_type": "fragment"
    }
   },
   "source": [
    "This is not the same as:"
   ]
  },
  {
   "cell_type": "code",
   "execution_count": null,
   "id": "e1d41b5e",
   "metadata": {},
   "outputs": [],
   "source": [
    "k or m < n\n"
   ]
  },
  {
   "cell_type": "markdown",
   "id": "f24fb1ad",
   "metadata": {
    "slideshow": {
     "slide_type": "slide"
    }
   },
   "source": [
    "```python \n",
    "x or y\n",
    "```\n",
    "\n",
    "__Process:__<br>\n",
    "Return `x` if the **Boolean** value of `x` is `True`; otherwise, return `y`.\n",
    "\n"
   ]
  },
  {
   "cell_type": "markdown",
   "id": "d5760470",
   "metadata": {
    "slideshow": {
     "slide_type": "fragment"
    }
   },
   "source": [
    "***\n",
    "```python \n",
    "k or m < n\n",
    "```\n",
    "\"Return `k` if the **Boolean** value of `k` is `True`; otherwise, return `m < n`.\"\n",
    "\n",
    "The Boolean value of `k` (`k` has the value `1`) is `True`, therefore `k` is returned"
   ]
  },
  {
   "cell_type": "markdown",
   "id": "1d1fa7ef",
   "metadata": {
    "slideshow": {
     "slide_type": "slide"
    }
   },
   "source": [
    "# Example: Logical Operators\n",
    "Check if `k` is less than `n` __and__ `m` is less than `n`\n",
    "\n",
    "```python\n",
    "k = 1\n",
    "m = 2\n",
    "n = 1.5\n",
    "```"
   ]
  },
  {
   "cell_type": "code",
   "execution_count": null,
   "id": "5f0643f0",
   "metadata": {
    "slideshow": {
     "slide_type": "-"
    }
   },
   "outputs": [],
   "source": [
    "k = 1\n",
    "m = 2\n",
    "n = 1.5\n",
    "\n",
    "k < n and m < n\n"
   ]
  },
  {
   "cell_type": "markdown",
   "id": "ff2a49d1",
   "metadata": {
    "slideshow": {
     "slide_type": "fragment"
    }
   },
   "source": [
    "This is not the same as:"
   ]
  },
  {
   "cell_type": "code",
   "execution_count": null,
   "id": "dac4bbc3",
   "metadata": {},
   "outputs": [],
   "source": [
    "k and m < n\n"
   ]
  },
  {
   "cell_type": "markdown",
   "id": "fcbc4d87",
   "metadata": {
    "slideshow": {
     "slide_type": "slide"
    }
   },
   "source": [
    "```python \n",
    "x and y\n",
    "```\n",
    "\n",
    "__Process:__<br>\n",
    "Return `x` if the **Boolean** value of `x` is `False`; otherwise, return `y`.\n",
    "\n",
    "\n",
    "\n",
    " "
   ]
  },
  {
   "cell_type": "markdown",
   "id": "86a88932",
   "metadata": {
    "slideshow": {
     "slide_type": "fragment"
    }
   },
   "source": [
    "***\n",
    "\n",
    "```python \n",
    "k and m < n\n",
    "```\n",
    "\n",
    "Return `k` if the **Boolean** value of `k` is  `False`; otherwise, return ` m < n`\n",
    "\n",
    "The Boolean value of `k` (`k` has the value `1`) is `True`, therefore ` m < n` is returned (` m < n` has the value `False`)"
   ]
  },
  {
   "cell_type": "markdown",
   "id": "5263f3ba",
   "metadata": {
    "slideshow": {
     "slide_type": "slide"
    }
   },
   "source": [
    "# Chained Comparison Operators\n",
    "Comparison operators can be chained together if they feature the same operand\n",
    "\n",
    "The following 2 statements are equivalent\n",
    "\n",
    "```python\n",
    "x < y < z\n",
    "\n",
    "x < y and y < z\n",
    "```"
   ]
  },
  {
   "cell_type": "markdown",
   "id": "e7fe06cb",
   "metadata": {
    "slideshow": {
     "slide_type": "slide"
    }
   },
   "source": [
    "# Example: Chained Comparison Operators\n",
    "Check if the temperature of an aquarium is within the allowable range 24 – 26.5°C \n",
    "\n",
    "```python\n",
    "temp = 30\n",
    "temp_low = 24\n",
    "temp_high = 26.5\n",
    "```"
   ]
  },
  {
   "cell_type": "code",
   "execution_count": null,
   "id": "a3c67865",
   "metadata": {
    "slideshow": {
     "slide_type": "-"
    }
   },
   "outputs": [],
   "source": [
    "temp = 30\n",
    "temp_low = 24\n",
    "temp_high = 26.5\n",
    "\n",
    "# temp_low <= temp and temp <= temp_high\n",
    "\n",
    "temp_low <= temp <= temp_high\n"
   ]
  },
  {
   "cell_type": "markdown",
   "id": "cd57c229",
   "metadata": {
    "slideshow": {
     "slide_type": "slide"
    }
   },
   "source": [
    "# Example: Chained Comparison Operators\n",
    "Check that the value of variables `a` to `d` increase in alphabetical order"
   ]
  },
  {
   "cell_type": "code",
   "execution_count": null,
   "id": "ee5f1b94",
   "metadata": {},
   "outputs": [],
   "source": [
    "a = 1\n",
    "b = 2\n",
    "c = 3\n",
    "d = 4\n",
    "\n",
    "# a < b and b < c and c < d\n",
    "\n",
    "a < b < c < d\n"
   ]
  },
  {
   "cell_type": "markdown",
   "id": "9fc1cb85",
   "metadata": {
    "slideshow": {
     "slide_type": "slide"
    }
   },
   "source": [
    "# Summary\n",
    " - Every __object__ has a type (`int`, `float`, `string`....).\n",
    " - A __variable__ is a name that refers or points to a particular object\n",
    " - __Arithmetic operators__ (+, -, /, * ....)<br>Used with numeric values to perform mathematical operations (behave differently with strings).\n",
    " - __Comparison operators__ (==, !=, <, > ....)<br>Compare two *operands*.<br>Output is a *Boolean* (True or False) value.<br>Comparison operators can be stacked e.g. `x < y <= z`\n",
    " - __Identity operators__ (`is`, `is not` ....)<br>Checks if two *operands* are identical.<br>Outout is a *Boolean* (True or False) value.\n",
    " - __Logical operators__ (`and`, `or`)<br>Compare Boolean `True` or `False` *operands* (e.g. outcomes of two *comparison operations*) to form logic statements. <br>Outout is a *Boolean* (True or False) value.<br>Logical `not` operator returns the inverse Boolean value of an operand.\n",
    " - __Assignment operators__ (+=, -=, /= ....)<br>Reassign the value of a variable.\n",
    " "
   ]
  },
  {
   "cell_type": "markdown",
   "id": "4eeaebbf",
   "metadata": {
    "slideshow": {
     "slide_type": "slide"
    }
   },
   "source": [
    "### Need to see some more examples? \n",
    "__Objects and Variables__\n",
    "<br>https://www.w3schools.com/python/python_variables.asp\n",
    "<br>https://www.geeksforgeeks.org/python-variables/\n",
    "\n",
    "__Operators__\n",
    "<br>https://www.w3schools.com/python/python_operators.asp\n",
    "<br>https://www.geeksforgeeks.org/python-operators/\n",
    "<br>https://www.programiz.com/python-programming/operators\n",
    "<br>https://pynative.com/python-operators/\n",
    "\n",
    "### Want to take a quiz?\n",
    "__Objects and Variables__\n",
    "<br>https://realpython.com/quizzes/python-variables/\n",
    "<br>https://pynative.com/python-variables-and-data-types-quiz/\n",
    "\n",
    "__Operators__\n",
    "<br>https://realpython.com/quizzes/python-operators-expressions/\n",
    "<br>https://pynative.com/python-operators-and-expression-quiz/\n",
    "\n",
    "### Want some more advanced information?\n",
    "__Objects and Variables__\n",
    "<br>https://realpython.com/python-data-types/\n",
    "<br>https://pynative.com/python-variables/\n",
    "\n",
    "__Operators__\n",
    "<br>https://realpython.com/python-operators-expressions/\n"
   ]
  },
  {
   "cell_type": "code",
   "execution_count": null,
   "id": "e9b12202",
   "metadata": {},
   "outputs": [],
   "source": []
  }
 ],
 "metadata": {
  "celltoolbar": "Slideshow",
  "kernelspec": {
   "display_name": "Python 3 (ipykernel)",
   "language": "python",
   "name": "python3"
  },
  "language_info": {
   "codemirror_mode": {
    "name": "ipython",
    "version": 3
   },
   "file_extension": ".py",
   "mimetype": "text/x-python",
   "name": "python",
   "nbconvert_exporter": "python",
   "pygments_lexer": "ipython3",
   "version": "3.10.9"
  }
 },
 "nbformat": 4,
 "nbformat_minor": 5
}
