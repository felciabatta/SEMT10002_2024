{
 "cells": [
  {
   "cell_type": "markdown",
   "id": "3122cada",
   "metadata": {
    "slideshow": {
     "slide_type": "slide"
    }
   },
   "source": [
    "# Computer Programming and Algorithms\n",
    "\n",
    "## Objects and Variables \n",
    "\n",
    "\n",
    "<img src=\"https://github.com/engmaths/EMAT10007_2023/blob/main/weekly_content/img/full-colour-logo-UoB.png?raw=true\" width=\"20%\">\n",
    "</p>"
   ]
  },
  {
   "cell_type": "markdown",
   "id": "23d8408f",
   "metadata": {
    "slideshow": {
     "slide_type": "slide"
    }
   },
   "source": [
    "### Open the Google Colab notebook for this class\n",
    "\n",
    "Go to Google Colab in a web browser https://colab.research.google.com/\n",
    "\n",
    "Select File >> Open Notebook >> Github\n",
    "\n",
    "Under \"Enter a Github URL or search by organisation or user\", paste the link to this week's notebook (on blackboard)"
   ]
  },
  {
   "cell_type": "markdown",
   "id": "2d932b91-1852-4d2d-b2ac-1e11cc37b09f",
   "metadata": {
    "slideshow": {
     "slide_type": "slide"
    }
   },
   "source": [
    "# Aim \n",
    "\n",
    "To become comfortable with:\n",
    "- creating and manipulating objects\n",
    "- writing and running code in different programming environments"
   ]
  },
  {
   "cell_type": "markdown",
   "id": "8121bc5a-a9e2-4bbd-9e62-de2ca3f1b0a3",
   "metadata": {
    "slideshow": {
     "slide_type": "slide"
    }
   },
   "source": [
    "# Recap of the videos"
   ]
  },
  {
   "cell_type": "markdown",
   "id": "5e737924-5405-4c0a-aaa7-cca6ec6769ce",
   "metadata": {},
   "source": [
    "__Objects__ \n",
    "\n",
    "Every item of data (numbers, text characters etc) in a computer program can be described by the term __object__\n",
    "\n",
    "When an object is created, the computer allocates a block of memory to hold the object’s data. "
   ]
  },
  {
   "cell_type": "markdown",
   "id": "82681370-c017-4063-8405-2546f254c0db",
   "metadata": {
    "slideshow": {
     "slide_type": "slide"
    }
   },
   "source": [
    "__Variables__ \n",
    "\n",
    "A __variable__ is a name that refers (points) to a particular object's location in computer memory\n",
    "\n",
    "By *assigning* an object to a variable, the object's value can be stored and later retrieved and used within a computer program. \n",
    "\n",
    "<img src=\"https://github.com/engmaths/EMAT10007_2023/blob/main/weekly_content/img/assignment_b.png?raw=true\" width=\"20%\">\n",
    "</p>\n",
    "\n"
   ]
  },
  {
   "cell_type": "code",
   "execution_count": null,
   "id": "3d2d7442-6842-4b32-9ad1-7461d569bf53",
   "metadata": {},
   "outputs": [],
   "source": [
    "b = 4\n"
   ]
  },
  {
   "cell_type": "markdown",
   "id": "31c4cdea",
   "metadata": {
    "slideshow": {
     "slide_type": "slide"
    }
   },
   "source": [
    "The type of an object determines what properties it has and how it behaves\n",
    " \n",
    " __Basic Object Types__ \n",
    " <br>(not exhaustive)\n",
    " \n",
    "- `int` __integer__: (e.g. 3, 88)\n",
    "- `float` __floating point number__: number with decimal point (e.g. 1.5, 99.9626)\n",
    "- `str` __string__: text data enclosed within quotation marks (e.g. `'hello'` or `\"12\"`)\n",
    "- `bool` __Boolean__: `True` or `False` (first letter capitalised)"
   ]
  },
  {
   "cell_type": "markdown",
   "id": "d649069b",
   "metadata": {
    "slideshow": {
     "slide_type": "slide"
    }
   },
   "source": [
    "Integers (`int`) and floating point numbers (`float`) are stored on a computer as **binary** or **base-2** numbers.\n",
    "\n",
    "Each number is formed by finding the sum of base-2 numbers, each multiplied by a factor **1 or 0**.\n",
    "\n",
    "<img src=\"https://github.com/engmaths/SEMT10002_2024/blob/main/img/whole_number__.png?raw=true\" width=\"30%\">\n",
    "\n",
    "<img src=\"https://github.com/engmaths/SEMT10002_2024/blob/main/img/decimal_number.png?raw=true\" width=\"30%\">\n"
   ]
  },
  {
   "cell_type": "markdown",
   "id": "fd6c8657",
   "metadata": {
    "slideshow": {
     "slide_type": "slide"
    }
   },
   "source": [
    "__Floating Point Error__\n",
    "\n",
    "\n",
    "A limited number of bits is used to store floating point numbers (`float`)\n",
    "\n",
    "This can lead to inexact storage of decimal numbers, known as *floating point error* "
   ]
  },
  {
   "cell_type": "markdown",
   "id": "b5c48a2a",
   "metadata": {
    "slideshow": {
     "slide_type": "slide"
    }
   },
   "source": [
    "Strings (`str`) (text characters) are stored on a computer as a series of bytes (8 bit binary number). \n",
    "\n",
    "Boolean (`bool`) `True` and `False` values are stored in computer memory as integers `1` and `0`"
   ]
  },
  {
   "cell_type": "markdown",
   "id": "5ed5ec0c",
   "metadata": {
    "slideshow": {
     "slide_type": "slide"
    }
   },
   "source": [
    "# Question \n",
    "\n",
    "What is the type of each of the following objects?\n",
    "\n",
    "\n",
    "a) `4.5`\n",
    "b) `False`\n",
    "c) `'Programming'`\n",
    "\n",
    "Enter your answer at [Mentimeter](https://menti.com)!"
   ]
  },
  {
   "cell_type": "markdown",
   "id": "4ff42900",
   "metadata": {
    "slideshow": {
     "slide_type": "slide"
    }
   },
   "source": [
    "# Type Conversion\n",
    "A variable can be *cast* as a different type using a constructor function. \n",
    "\n",
    "- Constructor function name represents the desired data type.\n",
    "- The variable to be cast is included between the parentheses `(...)`\n",
    "\n",
    "__Example:__ Constructor function `int`"
   ]
  },
  {
   "cell_type": "code",
   "execution_count": null,
   "id": "aae53998-1c50-4710-b136-9def4f21d258",
   "metadata": {},
   "outputs": [],
   "source": [
    "a = 1.0\n",
    "\n",
    "b = int(a)\n",
    "\n",
    "print(b)\n"
   ]
  },
  {
   "cell_type": "markdown",
   "id": "4311a8fb-c1c9-4276-90b0-c8986f6b06b0",
   "metadata": {
    "slideshow": {
     "slide_type": "slide"
    }
   },
   "source": [
    "__Object Creation:__ <br>The original object (`1.0`) remains in memory. <br>A new object with value `1` is created in memory.\n",
    "\n",
    "__Reference Assignment:__ <br>The variable name `b` points to the new object. \n",
    "\n",
    "\n",
    "\n",
    "<img src=\"https://github.com/engmaths/SEMT10002_2024/blob/main/img/assignment_casting_b.png?raw=true\" width=\"20%\">\n",
    "</p>\n"
   ]
  },
  {
   "cell_type": "markdown",
   "id": "8cad495a-7067-4e3a-a97b-30d96870c1f4",
   "metadata": {
    "slideshow": {
     "slide_type": "slide"
    }
   },
   "source": [
    "__Constructor functions__\n",
    "\n",
    "`int()` - constructs an integer (e.g. from a float (by removing all decimals), or a string (the string must represent an integer)\n",
    "<br>`float()` - constructs a float (e.g. from an integer, or a string (the string must represent a float or an integer)\n",
    "<br>`str()` - constructs a string (e.g. from an integer, float or Boolean)\n",
    "<br>`bool()` - constructs a Boolean (e.g. from an integer, float or string)"
   ]
  },
  {
   "cell_type": "markdown",
   "id": "1fbd7c3c",
   "metadata": {
    "slideshow": {
     "slide_type": "fragment"
    }
   },
   "source": [
    "*A full list of possible type conversions can be found under 'Type Conversion' <br>(https://realpython.com/python-data-types/#type-conversion)*"
   ]
  },
  {
   "cell_type": "markdown",
   "id": "5b8bd015",
   "metadata": {
    "slideshow": {
     "slide_type": "slide"
    }
   },
   "source": [
    "# Example\n",
    "Convert `a` from a float to a) integer b) string"
   ]
  },
  {
   "cell_type": "code",
   "execution_count": null,
   "id": "51d5b1d8",
   "metadata": {},
   "outputs": [],
   "source": [
    "a = 1.2\n"
   ]
  },
  {
   "cell_type": "markdown",
   "id": "076a783c",
   "metadata": {
    "slideshow": {
     "slide_type": "slide"
    }
   },
   "source": [
    "# Example\n",
    "\n",
    "Convert `a` from a string to a) integer b) float\n",
    "\n",
    "(Remember to convert to convert a string to an integer, the string must represent an integer)"
   ]
  },
  {
   "cell_type": "code",
   "execution_count": null,
   "id": "422bd190",
   "metadata": {},
   "outputs": [],
   "source": [
    "a = '1'\n"
   ]
  },
  {
   "cell_type": "markdown",
   "id": "5a1591d9",
   "metadata": {
    "slideshow": {
     "slide_type": "slide"
    }
   },
   "source": [
    "# Try it yourself\n",
    "Convert `a` from an integer to a) float b) string"
   ]
  },
  {
   "cell_type": "code",
   "execution_count": null,
   "id": "07de5290",
   "metadata": {},
   "outputs": [],
   "source": [
    "a = 1\n"
   ]
  },
  {
   "cell_type": "markdown",
   "id": "a0db958a",
   "metadata": {
    "slideshow": {
     "slide_type": "slide"
    }
   },
   "source": [
    "# Boolean representations of other object types\n",
    "\n",
    "Outcomes when casting other object types as Boolean values:\n",
    "\n",
    "|     | `True`           | `False`                |  \n",
    "| :--------------- | :--------------- | :---------------       |\n",
    "| `int`            | non-zero         |zero (`0`)              | \n",
    "| `float`          | non-zero         |zero (`0.0`)            |\n",
    "| `str`         | non-empty string |empty string (`''`)     | \n",
    "\n",
    " "
   ]
  },
  {
   "cell_type": "markdown",
   "id": "9b158dee-0405-4e61-8338-e751165687b9",
   "metadata": {
    "slideshow": {
     "slide_type": "slide"
    }
   },
   "source": [
    "# Example\n",
    "Convert a) integer b) float c) string, to Boolean"
   ]
  },
  {
   "cell_type": "code",
   "execution_count": null,
   "id": "fd91c60c",
   "metadata": {
    "scrolled": true
   },
   "outputs": [],
   "source": [
    "a = 1\n",
    "b = 1.0\n",
    "c = '1'\n",
    "\n",
    "d = bool(a)\n",
    "\n",
    "print(d)\n"
   ]
  },
  {
   "cell_type": "markdown",
   "id": "4eeaebbf",
   "metadata": {
    "slideshow": {
     "slide_type": "slide"
    }
   },
   "source": [
    "### Need to see some more examples? \n",
    "https://www.w3schools.com/python/python_variables.asp\n",
    "<br>https://www.geeksforgeeks.org/python-variables/\n",
    "\n",
    "### Want to take a quiz?\n",
    "https://realpython.com/quizzes/python-variables/\n",
    "<br>https://pynative.com/python-variables-and-data-types-quiz/\n",
    "\n",
    "\n",
    "### Want some more advanced information?\n",
    "https://realpython.com/python-data-types/\n",
    "<br>https://pynative.com/python-variables/\n"
   ]
  },
  {
   "cell_type": "markdown",
   "id": "04fe95a9",
   "metadata": {
    "slideshow": {
     "slide_type": "slide"
    }
   },
   "source": [
    "# Lab Exercises\n",
    "In these exercises, you will practise what you have learnt by writing and running Python code in two different environments:\n",
    "- Terminal\n",
    "- IDE (Integrated Development Environment)"
   ]
  },
  {
   "cell_type": "markdown",
   "id": "fac516a8",
   "metadata": {
    "slideshow": {
     "slide_type": "slide"
    }
   },
   "source": [
    "# Setting up the lab computer \n",
    "\n",
    "Before starting the exercises, complete these steps to set up the lab computer. <br>You will only need to do this once."
   ]
  },
  {
   "cell_type": "markdown",
   "id": "8b990f3d",
   "metadata": {
    "slideshow": {
     "slide_type": "slide"
    }
   },
   "source": [
    "# Setting up the Terminal \n",
    "\n",
    "- Open the Terminal application\n",
    "- Type the following line of code then press enter: `module load anaconda`\n",
    "- Type the following line of code then press enter: `/opt/anaconda/3-2024/bin/conda init`\n",
    "- Close the Terminal application\n",
    "- Open the Terminal application again\n",
    "- Check that the new terminal displays the word `base` at the left of the screen where you enter the code."
   ]
  },
  {
   "cell_type": "markdown",
   "id": "9a0155a8",
   "metadata": {
    "slideshow": {
     "slide_type": "slide"
    }
   },
   "source": [
    "# Setting up the Visual Studio (VS) Code IDE\n",
    "\n",
    "- Open the Visual Studio Code application\n",
    "- If prompted to install a Python extension choose yes\n",
    "- Press Ctrl + Shift + P to open the Command Palette\n",
    "- Type 'Python: Select Interpreter' in the search bar or scroll down to find this option and click on it when found.  \n",
    "- Select Python 3.12.3 (base)"
   ]
  },
  {
   "cell_type": "markdown",
   "id": "8f85cf9c",
   "metadata": {
    "slideshow": {
     "slide_type": "slide"
    }
   },
   "source": [
    "# Demo - Running code in a terminal\n",
    "\n",
    "A terminal emulator is a software application that allows a user to interact with a computer, to input data and receive output. <br>(e.g. Terminal app on Mac/Linux, Command Prompt or GitBash/PowerShell on Windows)."
   ]
  },
  {
   "cell_type": "markdown",
   "id": "fc9cf877",
   "metadata": {
    "slideshow": {
     "slide_type": "slide"
    }
   },
   "source": [
    "To open a terminal (instructions for Linux Labs):\n",
    "- Click on 'Activities' (top left of screen)\n",
    "- Select the Terminal application \n",
    "\n",
    "Alternatively, open the Terminal application (Mac/Linux) or Git-bash application (Windows) on your personal computer"
   ]
  },
  {
   "cell_type": "markdown",
   "id": "7f726235",
   "metadata": {
    "slideshow": {
     "slide_type": "slide"
    }
   },
   "source": [
    "1. In the terminal, type `python3` and press enter to launch Python\n",
    "\n",
    "2. Create a variable `a` and assign it the integer value `1` by typing:\n",
    "\n",
    "```python\n",
    "a = 1\n",
    "```\n",
    "\n",
    "***\n",
    "\n",
    "3. Press enter\n",
    "\n",
    "***\n",
    "\n",
    "4. Now display the value of variable `a` by typing\n",
    "\n",
    "```python\n",
    "print(a)\n",
    "```\n",
    "\n",
    "and pressing enter"
   ]
  },
  {
   "cell_type": "markdown",
   "id": "36e7d916",
   "metadata": {
    "slideshow": {
     "slide_type": "slide"
    }
   },
   "source": [
    "# Demo - Running code in an IDE\n",
    "\n",
    "An IDE (Integrated Development Environment) is a software application for writing, running, saving and viewing teh output of code.\n",
    "\n",
    "Unlike a terminal application, an IDE includes a graphical interface.\n",
    "\n",
    "There are several IDEs available. \n",
    "\n",
    "We will use Visual Studio (VS) Code IDE."
   ]
  },
  {
   "cell_type": "markdown",
   "id": "7b4be7bb",
   "metadata": {
    "slideshow": {
     "slide_type": "slide"
    }
   },
   "source": [
    "To open a the VS Code IDE (instructions for Linux Labs):\n",
    "- Click on 'Activities' (top left of screen)\n",
    "- Select the Visual Studio Code application \n",
    "\n",
    "Alternatively open VS Code on your personal computer"
   ]
  },
  {
   "cell_type": "markdown",
   "id": "89036d67",
   "metadata": {
    "slideshow": {
     "slide_type": "slide"
    }
   },
   "source": [
    "1. Select File >> New file >> Python file \n",
    "2. Select File >> Save\n",
    "3. In the window that opens, give your file a name with no spaces, ending in `.py` and click save. <br>__Lab computers__: Save file in 'Documents' folder of your user area, in a subfolder for this unit. <br>__Personal computers__: Save file wherever you like \n",
    "4. In the editor window, create a variable `a` and assign it the integer value `1` by typing:\n",
    "\n",
    "```python\n",
    "a = 1\n",
    "```\n",
    "***\n",
    "\n",
    "5. On the next line type:\n",
    "\n",
    "```python\n",
    "print(a)\n",
    "```\n",
    "***\n",
    "\n",
    "6. Click the triangle shaped button in the top right-hand corner OR press 'Ctrl' + 'F5' to run the code, and select 'Python Debugger' if prompted. <br>The output of the code will appear in the panel at the bottom of the window\n",
    "\n",
    "***"
   ]
  },
  {
   "cell_type": "markdown",
   "id": "5f370311",
   "metadata": {
    "slideshow": {
     "slide_type": "slide"
    }
   },
   "source": [
    "# Exercise 1 - Running code in a terminal\n",
    "\n",
    "Repeat the terminal demo by yourself\n",
    "\n",
    "1. In the terminal, type `python3` and press enter to launch Python\n",
    "\n",
    "2. Create a variable `a` and assign it the integer value `1` by typing:\n",
    "\n",
    "```python\n",
    "a = 1\n",
    "```\n",
    "\n",
    "***\n",
    "\n",
    "3. Press enter\n",
    "\n",
    "***\n",
    "\n",
    "4. Now display the value of variable `a` by typing\n",
    "\n",
    "```python\n",
    "print(a)\n",
    "```\n",
    "\n",
    "and pressing enter"
   ]
  },
  {
   "cell_type": "markdown",
   "id": "9cc3db35",
   "metadata": {
    "slideshow": {
     "slide_type": "slide"
    }
   },
   "source": [
    "# Exercise 2 - Practise using the terminal\n",
    "In the terminal, complete the following:\n",
    "1. Create a variable, `a`, assign an integer value to it and print the value of the variable.\n",
    "1. Create two variables, `b` and `c`, assign a floating point value to each variable and print the value of each variable.\n",
    "1. Create a variable, `d` and assign a string value to it\n",
    "1. Check if the value of `b` or `c` contain floating point error. \n",
    "1. Print the last character in the string value assigned to `d`\n",
    "1. Reassign the variable `a` a new value, 5, and print the new value.\n",
    "1. Cast `c` as integer and print the new value\n",
    "1. Cast `a` as a Boolean and print the new value\n"
   ]
  },
  {
   "cell_type": "markdown",
   "id": "6534bc60",
   "metadata": {
    "slideshow": {
     "slide_type": "slide"
    }
   },
   "source": [
    "# Exercise 3 - Running code in an IDE\n",
    "\n",
    "Repeat the IDE demo by yourself\n",
    "\n",
    "1. Select File >> New file >> Python file \n",
    "2. Select File >> Save\n",
    "3. In the window that opens, give your file a name with no spaces, ending in `.py` and click save. <br>__Lab computers__: Save file in 'Documents' folder of your user area, in a subfolder for this unit. <br>__Personal computers__: Save file wherever you like \n",
    "4. In the editor window, create a variable `a` and assign it the integer value `1` by typing:\n",
    "\n",
    "```python\n",
    "a = 1\n",
    "```\n",
    "***\n",
    "\n",
    "5. On the next line type:\n",
    "\n",
    "```python\n",
    "print(a)\n",
    "```\n",
    "***\n",
    "\n",
    "6. Click the triangle shaped button in the top right-hand corner OR press 'Ctrl' + 'F5' to run the code, and select 'Python Debugger' if prompted. <br>The output of the code will appear in the panel at the bottom of the window\n",
    "\n",
    "***"
   ]
  },
  {
   "cell_type": "markdown",
   "id": "9ee31b8b",
   "metadata": {
    "slideshow": {
     "slide_type": "slide"
    }
   },
   "source": [
    "# Exercise 4 - Practise using an IDE\n",
    "\n",
    "In VS Code IDE, complete the following: \n",
    "<br>(The first three questions are the same as Exercise 2 for so you can compare the experience of writing this code in the two different environments):\n",
    "\n",
    "1. Select File >> New file >> Python file \n",
    "1. Select File >> Save\n",
    "1. In the window that opens, give your file a name with no spaces, ending in `.py`. \n",
    "1. Click save \n",
    "1. Create a variable, `a`, assign an integer value to it and print the value of the variable.\n",
    "1. Create two variables, `b` and `c`, assign a floating point value to each variable and print the value of each variable.\n",
    "1. Create a variable, `d` and assign a string value to it\n",
    "1. Print the first 2 characters in the string value assigned to `d`\n",
    "1. Reassign the variable `b` a floating point value and print the new value\n",
    "1. Cast `b` as a string and print the new value\n",
    "1. Cast `a` as a float and print the new value\n",
    "1. Save your work (Select File >> Save)"
   ]
  },
  {
   "cell_type": "markdown",
   "id": "1e7c76a6",
   "metadata": {
    "slideshow": {
     "slide_type": "slide"
    }
   },
   "source": [
    "# Exercise 5 - Real world programming example\n",
    "## Storing variables to control a robot\n",
    "\n",
    "In VS Code IDE, define a set of variables that will be used to control a (simluated) robot:\n",
    "\n",
    "1. Select File >> New file >> Python file \n",
    "1. Select File >> Save\n",
    "1. In the window that opens, give your file a name with no spaces, ending in `.py`. \n",
    "1. Click save \n",
    "1. __Give the robot a name__: Create a variable `name` and assign it a value. Choose a value and appropriate data type for the robot's name \n",
    "1. __Set velocity of the robot wheels__: Create a variable `velocity_wheel_1` and assign it the value 1.5. Create a variable `velocity_wheel_2` and assign it the value 0.5\n",
    "1. __Set the time__: Create a variable `time`.  The value of will be updated every 1 second. Assign an initial value of 0 seconds. \n",
    "1. __Set the robot power status__: Create a variable `status` and assign it a value. `status` indicates if the robot is powered on or powered off. It can therefore only take one of two possible values. \n",
    "1. Save your work (Select File >> Save)\n",
    "\n",
    "<br>Talk to the person sitting next to you and compare the variable types you chose. \n",
    "<br>Discuss why you choose the variable types you used for each question? \n",
    "<br>Did the person next to you do anything differently and why? \n"
   ]
  }
 ],
 "metadata": {
  "celltoolbar": "Slideshow",
  "kernelspec": {
   "display_name": "Python 3 (ipykernel)",
   "language": "python",
   "name": "python3"
  },
  "language_info": {
   "codemirror_mode": {
    "name": "ipython",
    "version": 3
   },
   "file_extension": ".py",
   "mimetype": "text/x-python",
   "name": "python",
   "nbconvert_exporter": "python",
   "pygments_lexer": "ipython3",
   "version": "3.9.10"
  }
 },
 "nbformat": 4,
 "nbformat_minor": 5
}
