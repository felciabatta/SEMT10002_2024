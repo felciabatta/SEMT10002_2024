{
 "cells": [
  {
   "cell_type": "markdown",
   "metadata": {},
   "source": [
    "<img style=\"float: right;\" width=\"30%\" src=\"https://www.robotedu.my/image/robotedu/image/data/all_product_images/product-3866/VK162-Dongle-GPS-Receiver-Navigation-Module-USB-Interface.jpg\"/>\n",
    "\n",
    "# Consolidation exercise - GPS processing\n",
    "\n",
    "In this exercise you will write code to import and process raw data from a GPS receiver.  In doing so, you will consolidate the following programming skills:\n",
    " - reading date from files\n",
    " - working with lists\n",
    " - writing and using your own functions\n",
    " - importing and using functions from built-in libraries\n",
    "\n",
    " ## Task - _in pairs_\n",
    "\n",
    " You're given the raw GPS log file from the receiver (see image on right) during a short walk in north Bristol.  You need to calculate:\n",
    " - the distance traveled\n",
    " - the average speed\n",
    "\n",
    " > You should work in a pair with someone else in your assigned group."
   ]
  },
  {
   "cell_type": "markdown",
   "metadata": {},
   "source": [
    "## Getting started\n",
    "\n",
    "Either:\n",
    "\n",
    "- Click [this link](https://colab.research.google.com/github/engmaths/SEMT10002_2024/blob/main/consolidation_exercises/Week_11_gps/week_11_consolidation_gps.ipynb) to open this notebook in Google colab.\n",
    "- You will need to download the data file using the cell below.\n",
    "\n",
    "or\n",
    "\n",
    "- Download it to your local computer using `git clone https://github.com/engmaths/SEMT10002_2024` or just use `git pull` to refresh if you've done this already.\n",
    "- Navigate to the subfolder `consolidation_exercises/Week_11_gps` and open the notebook `week_11_consolidation_gps.ipynb`."
   ]
  },
  {
   "cell_type": "code",
   "execution_count": 1,
   "metadata": {},
   "outputs": [],
   "source": [
    "import sys\n",
    "if 'google.colab' in sys.modules:\n",
    "    !wget https://raw.githubusercontent.com/engmaths/SEMT10002_2024/refs/heads/main/consolidation_exercises/Week_11_gps/gps_walk.txt"
   ]
  },
  {
   "cell_type": "markdown",
   "metadata": {},
   "source": [
    "## What's in the file\n",
    "\n",
    "The file is in text format and looks like this:\n",
    "\n",
    "```\n",
    "$GPRMC,091947.00,A,5128.76976,N,00236.28765,W,0.324,,251124,,,A*6A\n",
    "\n",
    "$GPVTG,,T,,M,0.324,N,0.600,K,A*20\n",
    "\n",
    "$GPGGA,091947.00,5128.76976,N,00236.28765,W,1,08,1.16,78.2,M,48.6,M,,*7B\n",
    "\n",
    "$GPGSA,A,3,30,20,05,13,07,14,11,15,,,,,1.84,1.16,1.43*0F\n",
    "\n",
    "$GPGSV,3,1,12,05,64,285,33,07,42,059,28,09,08,089,20,11,18,209,42*71\n",
    "```\n",
    "\n",
    "These are messages in [NMEA 0183 format](https://tronico.fi/OH6NT/docs/NMEA0183.pdf).  This format originated with marine electronics (think interconnected gizmos for your yacht) but has become the _de facto_ standard for GPS data in all applications.  Plug in the receiver above to any computer and this is the data that comes out of the serial link.  The messages encode all the satellite numbers and signal strengths, but the ones we're most interested in are the GPS fixes, which begin `$GPGGA`.  For example:\n",
    "\n",
    "```\n",
    "$GPGGA,091947.00,5128.76976,N,00236.28765,W,1,08,1.16,78.2,M,48.6,M,,*7B\n",
    "```\n",
    "where:\n",
    " - `091947.00` is the time in UTC (same as UK time since I took the data in winter)\n",
    " - `5128.76976,N` means latitude $51^o 28.76976'$ north, 51 degrees and 28.76976 minutes (1 minute is $\\frac{1}{60}$ of a degree)\n",
    " - `00236.28765,W` means longitude $2^o 36.28765'$ west\n",
    " - `1,08` means a regular GPS fix (not differential, which gives higher accuracy by using extra ground stations) from 8 satellites in view\n",
    " - `1.16` is the horizontal dilution of precision, a measure of accuracy based on the arrangement of the satellites\n",
    " - `78.2,M` means 78.2m above sea level\n",
    " - `48.6,M` means 48.6m above GPS' reference ellisoid model of the Earth's surface\n",
    " - `*7B` is a checksum\n",
    "\n",
    "All you're going to need to begin with are the latitude, longitude, and time.\n"
   ]
  },
  {
   "cell_type": "markdown",
   "metadata": {},
   "source": [
    "<img style=\"float: right;\" width=\"30%\" src=\"xymap.png\"/>\n",
    "\n",
    "## Jobs\n",
    "\n",
    "To accomplish your task of calculating the average speed, you will need to:\n",
    "- extract just the `$GPGGA` lines in the file\n",
    "- convert times from text to a usable time value, so you can take the difference between first and last\n",
    "- convert the latitudes and longitudes from their text formats to decimal numbers\n",
    "> By convention, east and north are positive, while west and south are negative\n",
    "- project latitude and longitude coordinates into a grid in metres so you can measure distances\n",
    "- plot the walk (it should like this image to the right)\n",
    "- add up total distance and time, then take the average speed. (Hint: search the web for typical walking speed.  It turns out I'm very average.)\n",
    "\n",
    "Feel free to divide these jobs up between you *in your pair*.  Use functions judiciously to make modular, re-usable code.\n",
    "\n",
    "> I'd recommend a bit of design work before you start coding."
   ]
  },
  {
   "cell_type": "markdown",
   "metadata": {},
   "source": [
    "## Useful Python stuff\n",
    "\n",
    "### Time handling\n",
    "\n",
    "Time handling in Python is a bit of a pain as there are different - almost competing - libraries for doing it.  I recommend the `datetime` library, [documented here](https://docs.python.org/3/library/datetime.html).  Here's an example of relevant stuff you can do with it."
   ]
  },
  {
   "cell_type": "code",
   "execution_count": 2,
   "metadata": {},
   "outputs": [
    {
     "name": "stdout",
     "output_type": "stream",
     "text": [
      "time1 1900-01-01 11:24:12\n",
      "time2 1900-01-01 13:48:43\n",
      "time_delta 2:24:31\n",
      "delta_seconds 8671.0\n"
     ]
    }
   ],
   "source": [
    "from datetime import datetime\n",
    "\n",
    "time1 = datetime.strptime('11:24:12','%H:%M:%S')\n",
    "print('time1',time1)\n",
    "time2 = datetime.strptime('13:48:43','%H:%M:%S')\n",
    "print('time2',time2)\n",
    "time_delta = time2 - time1\n",
    "print('time_delta',time_delta)\n",
    "delta_seconds = time_delta.total_seconds()\n",
    "print('delta_seconds',delta_seconds)"
   ]
  },
  {
   "cell_type": "markdown",
   "metadata": {},
   "source": [
    "### Coordinate projections\n",
    "\n",
    "There's a lovely big rabbit hole you can go down on the subject of mapping projection and coordinate transforms.  Happily, the excellent [`pyproj` library](https://pyproj4.github.io/pyproj/stable/index.html) makes all this easily accessible through its [`Transformer` object](https://pyproj4.github.io/pyproj/stable/index.html).\n",
    "\n",
    "Coordinate systems are catalogued using EPSG codes, including two relevant for this task:\n",
    " - EPSG:4326 is the GPS coordinate system, using latitude and longitude angles on an ellisoidal approximation of the Earth's surface\n",
    " - EPSG:27700 is the UK Ordnance Survey national grid coordinate system, in metres east and north from a point somewhere off the south west coast\n",
    "\n",
    "There is a nice example of what you need to do [here](https://pyproj4.github.io/pyproj/stable/examples.html#step-2-create-transformer-to-convert-from-crs-to-crs).  You can check locations using different coordinate systems on [this free website](https://gridreferencefinder.com/) (with apologies for adverts).\n",
    "\n",
    "You might need to install the pyproj library using:\n",
    "- `%pip install pyproj` on Colab\n",
    "- `python -m pip install pyproj` on your local PC.\n"
   ]
  },
  {
   "cell_type": "markdown",
   "metadata": {},
   "source": [
    "> And don't forget that the square root function lives in the `math` library"
   ]
  },
  {
   "cell_type": "markdown",
   "metadata": {},
   "source": [
    "## Submitting\n",
    "\n",
    "Both members of each pair should submit an identical `.py` file to the *Consolidation Exercise 2* submission point on Blackboard.\n",
    "\n",
    "> Please state both your names in a comment at the top of your file."
   ]
  }
 ],
 "metadata": {
  "kernelspec": {
   "display_name": "Python 3 (ipykernel)",
   "language": "python",
   "name": "python3"
  },
  "language_info": {
   "codemirror_mode": {
    "name": "ipython",
    "version": 3
   },
   "file_extension": ".py",
   "mimetype": "text/x-python",
   "name": "python",
   "nbconvert_exporter": "python",
   "pygments_lexer": "ipython3",
   "version": "3.9.10"
  }
 },
 "nbformat": 4,
 "nbformat_minor": 4
}
