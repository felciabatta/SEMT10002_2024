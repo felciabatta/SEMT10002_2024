{
 "cells": [
  {
   "cell_type": "markdown",
   "id": "f9f1ae16-300a-4eea-949b-12cb043054b2",
   "metadata": {},
   "source": [
    "# Introduction to Computer Programming\n",
    "\n",
    "## Consolidation Exercise 1 - Text based adventure game\n",
    "\n",
    "* * *\n",
    "\n",
    "<img src=\"https://github.com/engmaths/EMAT10007_2023/blob/main/weekly_content/img/full-colour-logo-UoB.png?raw=true\" width=\"20%\">\n",
    "</p>"
   ]
  },
  {
   "cell_type": "markdown",
   "id": "120f786b-1b8d-471f-ae63-c6b7bcbb88b4",
   "metadata": {},
   "source": [
    "\n",
    "\n",
    "Use the control structures you have learnt so far to build a text-based adventure game (example below). When you have built your game, get the person sitting next to you to play it. \n",
    "\n",
    "Example game:\n",
    "\n",
    "```python\n",
    "\n",
    "print('You enter the castle.')\n",
    "print('You see a mysterious figure appear in the print distance.'\n",
    "print('Where would you like to go?')\n",
    "\n",
    "# Ask user to choose direction\n",
    "user_input = input('Choose direction (Options: right/left/backward)')\n",
    "\n",
    "# Wait until valid response given by user\n",
    "while user_input != 'right' and user_input != 'left' and user_input != 'backward' :\n",
    "    user_input = input('Please enter a valid option: right/left/backward')\n",
    "\n",
    "# Act on user input\n",
    "if userInput == 'right':\n",
    "    # Ask user to choose direction\n",
    "    print('You see a portal')\n",
    "    user_input = input('Enter the portal? (Options: yes/no)')\n",
    "    \n",
    "    # Wait until valid response given by user\n",
    "    while user_input != 'yes' and user_input != 'no':\n",
    "        user_input = input('Please enter a valid option: yes/no')\n",
    "\n",
    "    # Act on user input\n",
    "    if userInput == 'yes':\n",
    "        print('The portal takes you to a black hole!)\n",
    "        print('you lose the game!)\n",
    "\n",
    "    else:\n",
    "        if ...\n",
    "  \n",
    "elif userInput == 'left':\n",
    "  print(\"You find that this door opens into a dead end.\")\n",
    "  \n",
    "else:\n",
    "  if ...\n",
    "    \n",
    "```"
   ]
  },
  {
   "cell_type": "code",
   "execution_count": null,
   "id": "b78039ef-ba9f-47b1-b0c8-8a98aa0c6ccf",
   "metadata": {},
   "outputs": [],
   "source": []
  }
 ],
 "metadata": {
  "kernelspec": {
   "display_name": "Python 3 (ipykernel)",
   "language": "python",
   "name": "python3"
  },
  "language_info": {
   "codemirror_mode": {
    "name": "ipython",
    "version": 3
   },
   "file_extension": ".py",
   "mimetype": "text/x-python",
   "name": "python",
   "nbconvert_exporter": "python",
   "pygments_lexer": "ipython3",
   "version": "3.12.4"
  }
 },
 "nbformat": 4,
 "nbformat_minor": 5
}
