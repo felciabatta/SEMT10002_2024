{
 "cells": [
  {
   "cell_type": "markdown",
   "id": "e5ccbed9-c93f-4bfb-99a8-610ea85a007b",
   "metadata": {},
   "source": [
    "# Portfolio Exercise\n",
    "\n",
    "A Caesar cipher is a simple substitution cipher in which letters are shifted along by a certain amount. \n",
    "For example, with a shift of 3, the letter `'a'` becomes `'d'` and `'b'` becomes `'e'`. \n",
    "With a shift of 4, `'a'` becomes `'e'` and `'b'` becomes `'f'`.\n",
    "\n"
   ]
  },
  {
   "cell_type": "markdown",
   "id": "a979abee",
   "metadata": {},
   "source": [
    "## Task 1\n",
    "\n",
    "Write a function that implements the cipher. \n",
    "Your function should be called `caesar_cipher` and accept **two mandatory inputs**:\n",
    "\n",
    "1. the **text** to be encoded\n",
    "2. the **shift** used. \n",
    "\n",
    "The function should return just **one** output: the **encoded text**.\n",
    "\n",
    "You can use the Python function `ord` to convert a character into it's corresponding **ASCII number** and the function `chr` to convert back from an ASCII number into a character.\n"
   ]
  },
  {
   "cell_type": "markdown",
   "id": "66e7eb5c",
   "metadata": {},
   "source": [
    "## Task 2\n",
    "\n",
    "Write a program which can decrypt messages encoded by a Caesar cipher. \n",
    "However, although you're given the message, we won't tell you the shift. \n",
    "To make this problem easier, we'll restrict ourselves to messages that contain words from a pre-defined list. \n",
    "This will list be provided to you as a txt file (`word_list.txt`) which you must read and use in your program.\n",
    "\n",
    "This means we can decode a message with a simple brute force strategy. \n",
    "Our decoding algorithm will work as follows:\n",
    "\n",
    "1. Break the message into words.\n",
    "2. For each word, loop over all possible shifts. \n",
    "3. For each shift, decode the word and see if the decoded word is in the wordlist. \n",
    "   - If it is, add the decoded word to the decoded message. \n",
    "   - If after trying all possible shifts there is no match, your program should print an error. \n",
    "\n",
    "We won't worry about the possibility of a word matching multiple shifts — it's OK to assume the first match is the correct one.\n",
    "\n",
    "Messages can only contain lower case characters — no number, symbols or upper case letters allowed. \n",
    "If an invalid message is provided, your code should print an error message.\n",
    "\n",
    "Sample Inputs and Outputs:\n",
    "\n",
    "- Message: `khoor`, Output: `hello`\n",
    "- Message: `Khoor`, Output: `Invalid character in message`\n",
    "- Message: `puppy`, Output: `Can't decode word: puppy`\n",
    "- Message: `khoor khoor`, Output: `hello hello`\n",
    "\n",
    "Your code should be written in the file `cipher.py`. \n",
    "This file contains some test functions which will be called when we run your script. \n",
    "You do not need to modify these parts of the code. \n",
    "\n",
    "To pass this assignment, all tests must pass."
   ]
  }
 ],
 "metadata": {
  "kernelspec": {
   "display_name": "Python 3 (ipykernel)",
   "language": "python",
   "name": "python3"
  },
  "language_info": {
   "codemirror_mode": {
    "name": "ipython",
    "version": 3
   },
   "file_extension": ".py",
   "mimetype": "text/x-python",
   "name": "python",
   "nbconvert_exporter": "python",
   "pygments_lexer": "ipython3",
   "version": "3.9.10"
  }
 },
 "nbformat": 4,
 "nbformat_minor": 5
}
